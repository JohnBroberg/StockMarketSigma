{
 "cells": [
  {
   "cell_type": "code",
   "execution_count": 1,
   "id": "020e6d3d",
   "metadata": {},
   "outputs": [
    {
     "data": {
      "text/html": [
       "<div>\n",
       "<style scoped>\n",
       "    .dataframe tbody tr th:only-of-type {\n",
       "        vertical-align: middle;\n",
       "    }\n",
       "\n",
       "    .dataframe tbody tr th {\n",
       "        vertical-align: top;\n",
       "    }\n",
       "\n",
       "    .dataframe thead th {\n",
       "        text-align: right;\n",
       "    }\n",
       "</style>\n",
       "<table border=\"1\" class=\"dataframe\">\n",
       "  <thead>\n",
       "    <tr style=\"text-align: right;\">\n",
       "      <th></th>\n",
       "      <th>Date</th>\n",
       "      <th>Close/Last</th>\n",
       "      <th>Volume</th>\n",
       "      <th>Open</th>\n",
       "      <th>High</th>\n",
       "      <th>Low</th>\n",
       "    </tr>\n",
       "  </thead>\n",
       "  <tbody>\n",
       "    <tr>\n",
       "      <th>0</th>\n",
       "      <td>07/29/2022</td>\n",
       "      <td>4130.29</td>\n",
       "      <td>--</td>\n",
       "      <td>4087.33</td>\n",
       "      <td>4140.15</td>\n",
       "      <td>4079.22</td>\n",
       "    </tr>\n",
       "    <tr>\n",
       "      <th>1</th>\n",
       "      <td>07/28/2022</td>\n",
       "      <td>4072.43</td>\n",
       "      <td>--</td>\n",
       "      <td>4026.13</td>\n",
       "      <td>4078.95</td>\n",
       "      <td>3992.97</td>\n",
       "    </tr>\n",
       "    <tr>\n",
       "      <th>2</th>\n",
       "      <td>07/27/2022</td>\n",
       "      <td>4023.61</td>\n",
       "      <td>--</td>\n",
       "      <td>3951.43</td>\n",
       "      <td>4039.56</td>\n",
       "      <td>3951.43</td>\n",
       "    </tr>\n",
       "    <tr>\n",
       "      <th>3</th>\n",
       "      <td>07/26/2022</td>\n",
       "      <td>3921.05</td>\n",
       "      <td>--</td>\n",
       "      <td>3953.22</td>\n",
       "      <td>3953.22</td>\n",
       "      <td>3910.74</td>\n",
       "    </tr>\n",
       "    <tr>\n",
       "      <th>4</th>\n",
       "      <td>07/25/2022</td>\n",
       "      <td>3966.84</td>\n",
       "      <td>--</td>\n",
       "      <td>3965.72</td>\n",
       "      <td>3975.30</td>\n",
       "      <td>3943.46</td>\n",
       "    </tr>\n",
       "    <tr>\n",
       "      <th>...</th>\n",
       "      <td>...</td>\n",
       "      <td>...</td>\n",
       "      <td>...</td>\n",
       "      <td>...</td>\n",
       "      <td>...</td>\n",
       "      <td>...</td>\n",
       "    </tr>\n",
       "    <tr>\n",
       "      <th>2542</th>\n",
       "      <td>08/07/2012</td>\n",
       "      <td>1401.35</td>\n",
       "      <td>--</td>\n",
       "      <td>1394.46</td>\n",
       "      <td>1407.14</td>\n",
       "      <td>1394.46</td>\n",
       "    </tr>\n",
       "    <tr>\n",
       "      <th>2543</th>\n",
       "      <td>08/06/2012</td>\n",
       "      <td>1394.23</td>\n",
       "      <td>--</td>\n",
       "      <td>1391.04</td>\n",
       "      <td>1399.63</td>\n",
       "      <td>1391.04</td>\n",
       "    </tr>\n",
       "    <tr>\n",
       "      <th>2544</th>\n",
       "      <td>08/03/2012</td>\n",
       "      <td>1390.99</td>\n",
       "      <td>--</td>\n",
       "      <td>1365.45</td>\n",
       "      <td>1394.16</td>\n",
       "      <td>1365.45</td>\n",
       "    </tr>\n",
       "    <tr>\n",
       "      <th>2545</th>\n",
       "      <td>08/02/2012</td>\n",
       "      <td>1365.00</td>\n",
       "      <td>--</td>\n",
       "      <td>1375.13</td>\n",
       "      <td>1375.13</td>\n",
       "      <td>1354.65</td>\n",
       "    </tr>\n",
       "    <tr>\n",
       "      <th>2546</th>\n",
       "      <td>08/01/2012</td>\n",
       "      <td>1375.32</td>\n",
       "      <td>--</td>\n",
       "      <td>1379.32</td>\n",
       "      <td>1385.03</td>\n",
       "      <td>1373.35</td>\n",
       "    </tr>\n",
       "  </tbody>\n",
       "</table>\n",
       "<p>2547 rows × 6 columns</p>\n",
       "</div>"
      ],
      "text/plain": [
       "            Date  Close/Last Volume     Open     High      Low\n",
       "0     07/29/2022     4130.29     --  4087.33  4140.15  4079.22\n",
       "1     07/28/2022     4072.43     --  4026.13  4078.95  3992.97\n",
       "2     07/27/2022     4023.61     --  3951.43  4039.56  3951.43\n",
       "3     07/26/2022     3921.05     --  3953.22  3953.22  3910.74\n",
       "4     07/25/2022     3966.84     --  3965.72  3975.30  3943.46\n",
       "...          ...         ...    ...      ...      ...      ...\n",
       "2542  08/07/2012     1401.35     --  1394.46  1407.14  1394.46\n",
       "2543  08/06/2012     1394.23     --  1391.04  1399.63  1391.04\n",
       "2544  08/03/2012     1390.99     --  1365.45  1394.16  1365.45\n",
       "2545  08/02/2012     1365.00     --  1375.13  1375.13  1354.65\n",
       "2546  08/01/2012     1375.32     --  1379.32  1385.03  1373.35\n",
       "\n",
       "[2547 rows x 6 columns]"
      ]
     },
     "execution_count": 1,
     "metadata": {},
     "output_type": "execute_result"
    }
   ],
   "source": [
    "#Stock Market (S&P 500) Sigma (standard deviation) Analysis\n",
    "#created by John Broberg on 2022-05-29\n",
    "#inspired by \"LET THE WILD RUMPUS BEGIN\" by JEREMY GRANTHAM of GMO\n",
    "#ref. https://www.gmo.com/globalassets/articles/viewpoints/2022/gmo_let-the-wild-rumpus-begin_1-22.pdf\n",
    "\n",
    "#source data: https://www.nasdaq.com/market-activity/index/spx/historical\n",
    "\n",
    "#cd\n",
    "#cd Desktop/StockMarketSigma\n",
    "#git pull https://github.com/JohnBroberg/StockMarketSigma.git\n",
    "\n",
    "\n",
    "import pandas as pd\n",
    "import numpy as np\n",
    "import matplotlib.pyplot as plt\n",
    "import seaborn as sns\n",
    "\n",
    "data = 'HistoricalData_1659381341729.csv'\n",
    "df = pd.read_csv(data)\n",
    "\n",
    "df\n"
   ]
  },
  {
   "cell_type": "code",
   "execution_count": 2,
   "id": "3cb9ac74",
   "metadata": {},
   "outputs": [
    {
     "data": {
      "text/html": [
       "<div>\n",
       "<style scoped>\n",
       "    .dataframe tbody tr th:only-of-type {\n",
       "        vertical-align: middle;\n",
       "    }\n",
       "\n",
       "    .dataframe tbody tr th {\n",
       "        vertical-align: top;\n",
       "    }\n",
       "\n",
       "    .dataframe thead th {\n",
       "        text-align: right;\n",
       "    }\n",
       "</style>\n",
       "<table border=\"1\" class=\"dataframe\">\n",
       "  <thead>\n",
       "    <tr style=\"text-align: right;\">\n",
       "      <th></th>\n",
       "      <th>Close/Last</th>\n",
       "      <th>Open</th>\n",
       "      <th>High</th>\n",
       "      <th>Low</th>\n",
       "    </tr>\n",
       "  </thead>\n",
       "  <tbody>\n",
       "    <tr>\n",
       "      <th>count</th>\n",
       "      <td>2547.000000</td>\n",
       "      <td>2547.000000</td>\n",
       "      <td>2547.000000</td>\n",
       "      <td>2547.000000</td>\n",
       "    </tr>\n",
       "    <tr>\n",
       "      <th>mean</th>\n",
       "      <td>2627.443239</td>\n",
       "      <td>2604.395485</td>\n",
       "      <td>2617.933396</td>\n",
       "      <td>2589.659863</td>\n",
       "    </tr>\n",
       "    <tr>\n",
       "      <th>std</th>\n",
       "      <td>874.090366</td>\n",
       "      <td>917.051620</td>\n",
       "      <td>923.107704</td>\n",
       "      <td>910.179855</td>\n",
       "    </tr>\n",
       "    <tr>\n",
       "      <th>min</th>\n",
       "      <td>1353.330000</td>\n",
       "      <td>0.000000</td>\n",
       "      <td>0.000000</td>\n",
       "      <td>0.000000</td>\n",
       "    </tr>\n",
       "    <tr>\n",
       "      <th>25%</th>\n",
       "      <td>1989.065000</td>\n",
       "      <td>1983.780000</td>\n",
       "      <td>1991.395000</td>\n",
       "      <td>1974.815000</td>\n",
       "    </tr>\n",
       "    <tr>\n",
       "      <th>50%</th>\n",
       "      <td>2433.790000</td>\n",
       "      <td>2434.150000</td>\n",
       "      <td>2442.970000</td>\n",
       "      <td>2422.880000</td>\n",
       "    </tr>\n",
       "    <tr>\n",
       "      <th>75%</th>\n",
       "      <td>3016.930000</td>\n",
       "      <td>3016.240000</td>\n",
       "      <td>3032.115000</td>\n",
       "      <td>3000.670000</td>\n",
       "    </tr>\n",
       "    <tr>\n",
       "      <th>max</th>\n",
       "      <td>4796.560000</td>\n",
       "      <td>4804.510000</td>\n",
       "      <td>4818.620000</td>\n",
       "      <td>4780.040000</td>\n",
       "    </tr>\n",
       "  </tbody>\n",
       "</table>\n",
       "</div>"
      ],
      "text/plain": [
       "        Close/Last         Open         High          Low\n",
       "count  2547.000000  2547.000000  2547.000000  2547.000000\n",
       "mean   2627.443239  2604.395485  2617.933396  2589.659863\n",
       "std     874.090366   917.051620   923.107704   910.179855\n",
       "min    1353.330000     0.000000     0.000000     0.000000\n",
       "25%    1989.065000  1983.780000  1991.395000  1974.815000\n",
       "50%    2433.790000  2434.150000  2442.970000  2422.880000\n",
       "75%    3016.930000  3016.240000  3032.115000  3000.670000\n",
       "max    4796.560000  4804.510000  4818.620000  4780.040000"
      ]
     },
     "execution_count": 2,
     "metadata": {},
     "output_type": "execute_result"
    }
   ],
   "source": [
    "df.describe()"
   ]
  },
  {
   "cell_type": "code",
   "execution_count": 3,
   "id": "62634cf9",
   "metadata": {},
   "outputs": [
    {
     "data": {
      "text/html": [
       "<div>\n",
       "<style scoped>\n",
       "    .dataframe tbody tr th:only-of-type {\n",
       "        vertical-align: middle;\n",
       "    }\n",
       "\n",
       "    .dataframe tbody tr th {\n",
       "        vertical-align: top;\n",
       "    }\n",
       "\n",
       "    .dataframe thead th {\n",
       "        text-align: right;\n",
       "    }\n",
       "</style>\n",
       "<table border=\"1\" class=\"dataframe\">\n",
       "  <thead>\n",
       "    <tr style=\"text-align: right;\">\n",
       "      <th></th>\n",
       "      <th>Close/Last</th>\n",
       "      <th>Open</th>\n",
       "      <th>High</th>\n",
       "      <th>Low</th>\n",
       "    </tr>\n",
       "  </thead>\n",
       "  <tbody>\n",
       "    <tr>\n",
       "      <th>count</th>\n",
       "      <td>2515.000000</td>\n",
       "      <td>2515.000000</td>\n",
       "      <td>2515.000000</td>\n",
       "      <td>2515.000000</td>\n",
       "    </tr>\n",
       "    <tr>\n",
       "      <th>mean</th>\n",
       "      <td>2637.995753</td>\n",
       "      <td>2637.532922</td>\n",
       "      <td>2651.243085</td>\n",
       "      <td>2622.609809</td>\n",
       "    </tr>\n",
       "    <tr>\n",
       "      <th>std</th>\n",
       "      <td>874.105531</td>\n",
       "      <td>874.215346</td>\n",
       "      <td>880.129035</td>\n",
       "      <td>867.480813</td>\n",
       "    </tr>\n",
       "    <tr>\n",
       "      <th>min</th>\n",
       "      <td>1353.330000</td>\n",
       "      <td>1353.360000</td>\n",
       "      <td>1360.620000</td>\n",
       "      <td>1343.350000</td>\n",
       "    </tr>\n",
       "    <tr>\n",
       "      <th>25%</th>\n",
       "      <td>1995.500000</td>\n",
       "      <td>1995.720000</td>\n",
       "      <td>2005.060000</td>\n",
       "      <td>1985.860000</td>\n",
       "    </tr>\n",
       "    <tr>\n",
       "      <th>50%</th>\n",
       "      <td>2444.040000</td>\n",
       "      <td>2444.720000</td>\n",
       "      <td>2453.960000</td>\n",
       "      <td>2435.750000</td>\n",
       "    </tr>\n",
       "    <tr>\n",
       "      <th>75%</th>\n",
       "      <td>3037.225000</td>\n",
       "      <td>3039.260000</td>\n",
       "      <td>3064.565000</td>\n",
       "      <td>3006.700000</td>\n",
       "    </tr>\n",
       "    <tr>\n",
       "      <th>max</th>\n",
       "      <td>4796.560000</td>\n",
       "      <td>4804.510000</td>\n",
       "      <td>4818.620000</td>\n",
       "      <td>4780.040000</td>\n",
       "    </tr>\n",
       "  </tbody>\n",
       "</table>\n",
       "</div>"
      ],
      "text/plain": [
       "        Close/Last         Open         High          Low\n",
       "count  2515.000000  2515.000000  2515.000000  2515.000000\n",
       "mean   2637.995753  2637.532922  2651.243085  2622.609809\n",
       "std     874.105531   874.215346   880.129035   867.480813\n",
       "min    1353.330000  1353.360000  1360.620000  1343.350000\n",
       "25%    1995.500000  1995.720000  2005.060000  1985.860000\n",
       "50%    2444.040000  2444.720000  2453.960000  2435.750000\n",
       "75%    3037.225000  3039.260000  3064.565000  3006.700000\n",
       "max    4796.560000  4804.510000  4818.620000  4780.040000"
      ]
     },
     "execution_count": 3,
     "metadata": {},
     "output_type": "execute_result"
    }
   ],
   "source": [
    "#remove holidays (Open == 0)\n",
    "\n",
    "df = df.loc[~(df['Open']==0)]\n",
    "df.describe()"
   ]
  },
  {
   "cell_type": "code",
   "execution_count": 4,
   "id": "78458cb3",
   "metadata": {},
   "outputs": [
    {
     "name": "stdout",
     "output_type": "stream",
     "text": [
      "<class 'pandas.core.frame.DataFrame'>\n",
      "Int64Index: 2515 entries, 0 to 2546\n",
      "Data columns (total 6 columns):\n",
      " #   Column      Non-Null Count  Dtype  \n",
      "---  ------      --------------  -----  \n",
      " 0   Date        2515 non-null   object \n",
      " 1   Close/Last  2515 non-null   float64\n",
      " 2   Volume      2515 non-null   object \n",
      " 3   Open        2515 non-null   float64\n",
      " 4   High        2515 non-null   float64\n",
      " 5   Low         2515 non-null   float64\n",
      "dtypes: float64(4), object(2)\n",
      "memory usage: 137.5+ KB\n"
     ]
    }
   ],
   "source": [
    "df.info()"
   ]
  },
  {
   "cell_type": "code",
   "execution_count": 5,
   "id": "8b7a5035",
   "metadata": {},
   "outputs": [
    {
     "data": {
      "text/plain": [
       "(2515, 6)"
      ]
     },
     "execution_count": 5,
     "metadata": {},
     "output_type": "execute_result"
    }
   ],
   "source": [
    "df.shape"
   ]
  },
  {
   "cell_type": "code",
   "execution_count": 6,
   "id": "ac8615bf",
   "metadata": {},
   "outputs": [
    {
     "data": {
      "text/plain": [
       "Date          False\n",
       "Close/Last    False\n",
       "Volume        False\n",
       "Open          False\n",
       "High          False\n",
       "Low           False\n",
       "dtype: bool"
      ]
     },
     "execution_count": 6,
     "metadata": {},
     "output_type": "execute_result"
    }
   ],
   "source": [
    "df.isnull().any()"
   ]
  },
  {
   "cell_type": "code",
   "execution_count": 7,
   "id": "f7005b57",
   "metadata": {},
   "outputs": [
    {
     "data": {
      "text/plain": [
       "<function matplotlib.pyplot.show(close=None, block=None)>"
      ]
     },
     "execution_count": 7,
     "metadata": {},
     "output_type": "execute_result"
    },
    {
     "data": {
      "image/png": "[encoded data removed]",
      "text/plain": [
       "<Figure size 432x288 with 1 Axes>"
      ]
     },
     "metadata": {},
     "output_type": "display_data"
    }
   ],
   "source": [
    "sns.set()\n",
    "\n",
    "plt.hist(df['Close/Last'])\n",
    "plt.show"
   ]
  },
  {
   "cell_type": "code",
   "execution_count": 8,
   "id": "bb0a122c",
   "metadata": {},
   "outputs": [
    {
     "data": {
      "text/plain": [
       "4130.29"
      ]
     },
     "execution_count": 8,
     "metadata": {},
     "output_type": "execute_result"
    }
   ],
   "source": [
    "close_current = df['Close/Last'].iloc[0]\n",
    "close_current"
   ]
  },
  {
   "cell_type": "code",
   "execution_count": 9,
   "id": "e5f819b3",
   "metadata": {},
   "outputs": [
    {
     "data": {
      "text/plain": [
       "2637.995753479135"
      ]
     },
     "execution_count": 9,
     "metadata": {},
     "output_type": "execute_result"
    }
   ],
   "source": [
    "close_mean = df['Close/Last'].mean()\n",
    "close_mean"
   ]
  },
  {
   "cell_type": "code",
   "execution_count": 10,
   "id": "da3f53bd",
   "metadata": {},
   "outputs": [
    {
     "data": {
      "text/plain": [
       "874.1055305521546"
      ]
     },
     "execution_count": 10,
     "metadata": {},
     "output_type": "execute_result"
    }
   ],
   "source": [
    "close_sd = df['Close/Last'].std()\n",
    "close_sd"
   ]
  },
  {
   "cell_type": "code",
   "execution_count": 11,
   "id": "d17e2d7b",
   "metadata": {},
   "outputs": [
    {
     "data": {
      "text/plain": [
       "3512.1012840312897"
      ]
     },
     "execution_count": 11,
     "metadata": {},
     "output_type": "execute_result"
    }
   ],
   "source": [
    "sigma1 = close_mean + close_sd\n",
    "sigma1"
   ]
  },
  {
   "cell_type": "code",
   "execution_count": 12,
   "id": "38e6474d",
   "metadata": {},
   "outputs": [
    {
     "data": {
      "text/plain": [
       "4386.206814583445"
      ]
     },
     "execution_count": 12,
     "metadata": {},
     "output_type": "execute_result"
    }
   ],
   "source": [
    "sigma2 = close_mean + (2 * close_sd)\n",
    "sigma2"
   ]
  },
  {
   "cell_type": "code",
   "execution_count": 13,
   "id": "d1791a15",
   "metadata": {},
   "outputs": [
    {
     "data": {
      "text/plain": [
       "5260.312345135599"
      ]
     },
     "execution_count": 13,
     "metadata": {},
     "output_type": "execute_result"
    }
   ],
   "source": [
    "sigma3 = close_mean + (3 * close_sd)\n",
    "sigma3"
   ]
  },
  {
   "cell_type": "code",
   "execution_count": 14,
   "id": "51c65dd4",
   "metadata": {},
   "outputs": [
    {
     "name": "stdout",
     "output_type": "stream",
     "text": [
      "<class 'pandas.core.frame.DataFrame'>\n",
      "Int64Index: 2515 entries, 0 to 2546\n",
      "Data columns (total 2 columns):\n",
      " #   Column      Non-Null Count  Dtype         \n",
      "---  ------      --------------  -----         \n",
      " 0   Date        2515 non-null   datetime64[ns]\n",
      " 1   Close/Last  2515 non-null   float64       \n",
      "dtypes: datetime64[ns](1), float64(1)\n",
      "memory usage: 58.9 KB\n"
     ]
    }
   ],
   "source": [
    "cols = ['Date','Close/Last']\n",
    "df1 = df.loc[:,cols]\n",
    "df1['Date'] = pd.to_datetime(df1['Date'], format = \"%m/%d/%Y\" )\n",
    "df1.info()"
   ]
  },
  {
   "cell_type": "code",
   "execution_count": 15,
   "id": "68c3ba0d",
   "metadata": {},
   "outputs": [],
   "source": [
    "#Date Range\n",
    "date_start = min(df1['Date']).date()\n",
    "date_end = max(df1['Date']).date()"
   ]
  },
  {
   "cell_type": "code",
   "execution_count": 16,
   "id": "3eb98279",
   "metadata": {},
   "outputs": [
    {
     "data": {
      "text/plain": [
       "Text(0.5, 1.0, 'S&P 500 Daily Close/Last - 2012-08-01 to 2022-07-29')"
      ]
     },
     "execution_count": 16,
     "metadata": {},
     "output_type": "execute_result"
    },
    {
     "data": {
      "image/png": "[encoded data removed]",
      "text/plain": [
       "<Figure size 432x288 with 1 Axes>"
      ]
     },
     "metadata": {},
     "output_type": "display_data"
    }
   ],
   "source": [
    "#Daily S&P 500 Close/Last, vs mean and standard deviations\n",
    "\n",
    "if close_current > sigma2:\n",
    "    c = 'red'\n",
    "elif close_current > sigma1:\n",
    "    c = 'orange'\n",
    "else: \n",
    "    c = 'green'\n",
    "\n",
    "df1.plot(x='Date', y='Close/Last', color = c)\n",
    "plt.axhline(close_mean, color='black', label='Mean')\n",
    "plt.axhline(sigma1, color='black', linestyle='--', label='+1 standard deviation')\n",
    "plt.axhline(sigma2, color='black', linestyle=':', label='+2 standard deviations')\n",
    "plt.legend()\n",
    "plt.title(f'S&P 500 Daily Close/Last - {date_start} to {date_end}')"
   ]
  },
  {
   "cell_type": "code",
   "execution_count": 17,
   "id": "9d3de969",
   "metadata": {
    "scrolled": true
   },
   "outputs": [
    {
     "data": {
      "text/plain": [
       "Text(0.5, 1.0, 'Density: S&P 500 Daily Close/Last - 2012-08-01 to 2022-07-29')"
      ]
     },
     "execution_count": 17,
     "metadata": {},
     "output_type": "execute_result"
    },
    {
     "data": {
      "image/png": "[encoded data removed]",
      "text/plain": [
       "<Figure size 360x360 with 1 Axes>"
      ]
     },
     "metadata": {},
     "output_type": "display_data"
    }
   ],
   "source": [
    "# Using Kernal Density Estimation (kde) to approximate probability density function\n",
    "# https://seaborn.pydata.org/tutorial/distributions.html#kernel-density-estimation\n",
    "#bw_adjust: adjust bandwidth to smoothe out modalities\n",
    "\n",
    "sns.displot(df1['Close/Last'], kind='kde', bw_adjust=3.0) \n",
    "\n",
    "plt.axvline(close_mean, color='black', label='Mean')\n",
    "plt.axvline(sigma1, color='black', linestyle='--', label='+1 standard deviation')\n",
    "plt.axvline(sigma2, color='black', linestyle=':', label='+2 standard deviations')\n",
    "plt.axvline(close_current, color=c, label='Latest Close/Last')\n",
    "plt.legend(loc='upper left')\n",
    "plt.title(f'Density: S&P 500 Daily Close/Last - {date_start} to {date_end}')"
   ]
  },
  {
   "cell_type": "code",
   "execution_count": 18,
   "id": "7a9eb4a6",
   "metadata": {},
   "outputs": [
    {
     "data": {
      "text/plain": [
       "1.7072243503346936"
      ]
     },
     "execution_count": 18,
     "metadata": {},
     "output_type": "execute_result"
    }
   ],
   "source": [
    "z_score = (close_current - close_mean)/close_sd\n",
    "z_score"
   ]
  }
 ],
 "metadata": {
  "kernelspec": {
   "display_name": "Python 3 (ipykernel)",
   "language": "python",
   "name": "python3"
  },
  "language_info": {
   "codemirror_mode": {
    "name": "ipython",
    "version": 3
   },
   "file_extension": ".py",
   "mimetype": "text/x-python",
   "name": "python",
   "nbconvert_exporter": "python",
   "pygments_lexer": "ipython3",
   "version": "3.9.12"
  }
 },
 "nbformat": 4,
 "nbformat_minor": 5
}

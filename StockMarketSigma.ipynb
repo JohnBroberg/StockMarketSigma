{
 "cells": [
  {
   "cell_type": "code",
   "execution_count": 1,
   "id": "020e6d3d",
   "metadata": {},
   "outputs": [
    {
     "data": {
      "text/html": [
       "<div>\n",
       "<style scoped>\n",
       "    .dataframe tbody tr th:only-of-type {\n",
       "        vertical-align: middle;\n",
       "    }\n",
       "\n",
       "    .dataframe tbody tr th {\n",
       "        vertical-align: top;\n",
       "    }\n",
       "\n",
       "    .dataframe thead th {\n",
       "        text-align: right;\n",
       "    }\n",
       "</style>\n",
       "<table border=\"1\" class=\"dataframe\">\n",
       "  <thead>\n",
       "    <tr style=\"text-align: right;\">\n",
       "      <th></th>\n",
       "      <th>Date</th>\n",
       "      <th>Close/Last</th>\n",
       "      <th>Volume</th>\n",
       "      <th>Open</th>\n",
       "      <th>High</th>\n",
       "      <th>Low</th>\n",
       "    </tr>\n",
       "  </thead>\n",
       "  <tbody>\n",
       "    <tr>\n",
       "      <th>0</th>\n",
       "      <td>08/10/2022</td>\n",
       "      <td>4210.24</td>\n",
       "      <td>--</td>\n",
       "      <td>4181.02</td>\n",
       "      <td>4211.03</td>\n",
       "      <td>4177.26</td>\n",
       "    </tr>\n",
       "    <tr>\n",
       "      <th>1</th>\n",
       "      <td>08/09/2022</td>\n",
       "      <td>4122.47</td>\n",
       "      <td>--</td>\n",
       "      <td>4133.11</td>\n",
       "      <td>4137.30</td>\n",
       "      <td>4112.09</td>\n",
       "    </tr>\n",
       "    <tr>\n",
       "      <th>2</th>\n",
       "      <td>08/08/2022</td>\n",
       "      <td>4140.06</td>\n",
       "      <td>--</td>\n",
       "      <td>4155.93</td>\n",
       "      <td>4186.62</td>\n",
       "      <td>4128.97</td>\n",
       "    </tr>\n",
       "    <tr>\n",
       "      <th>3</th>\n",
       "      <td>08/05/2022</td>\n",
       "      <td>4145.19</td>\n",
       "      <td>--</td>\n",
       "      <td>4115.87</td>\n",
       "      <td>4151.58</td>\n",
       "      <td>4107.31</td>\n",
       "    </tr>\n",
       "    <tr>\n",
       "      <th>4</th>\n",
       "      <td>08/04/2022</td>\n",
       "      <td>4151.94</td>\n",
       "      <td>--</td>\n",
       "      <td>4154.85</td>\n",
       "      <td>4161.29</td>\n",
       "      <td>4135.42</td>\n",
       "    </tr>\n",
       "    <tr>\n",
       "      <th>...</th>\n",
       "      <td>...</td>\n",
       "      <td>...</td>\n",
       "      <td>...</td>\n",
       "      <td>...</td>\n",
       "      <td>...</td>\n",
       "      <td>...</td>\n",
       "    </tr>\n",
       "    <tr>\n",
       "      <th>2542</th>\n",
       "      <td>08/17/2012</td>\n",
       "      <td>1418.16</td>\n",
       "      <td>--</td>\n",
       "      <td>1415.84</td>\n",
       "      <td>1418.71</td>\n",
       "      <td>1414.67</td>\n",
       "    </tr>\n",
       "    <tr>\n",
       "      <th>2543</th>\n",
       "      <td>08/16/2012</td>\n",
       "      <td>1415.51</td>\n",
       "      <td>--</td>\n",
       "      <td>1405.57</td>\n",
       "      <td>1417.44</td>\n",
       "      <td>1404.15</td>\n",
       "    </tr>\n",
       "    <tr>\n",
       "      <th>2544</th>\n",
       "      <td>08/15/2012</td>\n",
       "      <td>1405.53</td>\n",
       "      <td>--</td>\n",
       "      <td>1403.89</td>\n",
       "      <td>1407.73</td>\n",
       "      <td>1401.83</td>\n",
       "    </tr>\n",
       "    <tr>\n",
       "      <th>2545</th>\n",
       "      <td>08/14/2012</td>\n",
       "      <td>1403.93</td>\n",
       "      <td>--</td>\n",
       "      <td>1404.36</td>\n",
       "      <td>1410.03</td>\n",
       "      <td>1400.60</td>\n",
       "    </tr>\n",
       "    <tr>\n",
       "      <th>2546</th>\n",
       "      <td>08/13/2012</td>\n",
       "      <td>1404.11</td>\n",
       "      <td>--</td>\n",
       "      <td>1405.87</td>\n",
       "      <td>1405.87</td>\n",
       "      <td>1397.32</td>\n",
       "    </tr>\n",
       "  </tbody>\n",
       "</table>\n",
       "<p>2547 rows × 6 columns</p>\n",
       "</div>"
      ],
      "text/plain": [
       "            Date  Close/Last Volume     Open     High      Low\n",
       "0     08/10/2022     4210.24     --  4181.02  4211.03  4177.26\n",
       "1     08/09/2022     4122.47     --  4133.11  4137.30  4112.09\n",
       "2     08/08/2022     4140.06     --  4155.93  4186.62  4128.97\n",
       "3     08/05/2022     4145.19     --  4115.87  4151.58  4107.31\n",
       "4     08/04/2022     4151.94     --  4154.85  4161.29  4135.42\n",
       "...          ...         ...    ...      ...      ...      ...\n",
       "2542  08/17/2012     1418.16     --  1415.84  1418.71  1414.67\n",
       "2543  08/16/2012     1415.51     --  1405.57  1417.44  1404.15\n",
       "2544  08/15/2012     1405.53     --  1403.89  1407.73  1401.83\n",
       "2545  08/14/2012     1403.93     --  1404.36  1410.03  1400.60\n",
       "2546  08/13/2012     1404.11     --  1405.87  1405.87  1397.32\n",
       "\n",
       "[2547 rows x 6 columns]"
      ]
     },
     "execution_count": 1,
     "metadata": {},
     "output_type": "execute_result"
    }
   ],
   "source": [
    "#Stock Market (S&P 500) Sigma (standard deviation) Analysis\n",
    "#created by John Broberg on 2022-05-29\n",
    "#inspired by \"LET THE WILD RUMPUS BEGIN\" by JEREMY GRANTHAM of GMO\n",
    "#ref. https://www.gmo.com/globalassets/articles/viewpoints/2022/gmo_let-the-wild-rumpus-begin_1-22.pdf\n",
    "\n",
    "#source data: https://www.nasdaq.com/market-activity/index/spx/historical\n",
    "\n",
    "#cd\n",
    "#cd Desktop/StockMarketSigma\n",
    "#git pull https://github.com/JohnBroberg/StockMarketSigma.git\n",
    "\n",
    "\n",
    "import pandas as pd\n",
    "import numpy as np\n",
    "import matplotlib.pyplot as plt\n",
    "import seaborn as sns\n",
    "\n",
    "data = 'HistoricalData_1660249007371.csv'\n",
    "df = pd.read_csv(data)\n",
    "\n",
    "df\n"
   ]
  },
  {
   "cell_type": "code",
   "execution_count": 2,
   "id": "3cb9ac74",
   "metadata": {},
   "outputs": [
    {
     "data": {
      "text/html": [
       "<div>\n",
       "<style scoped>\n",
       "    .dataframe tbody tr th:only-of-type {\n",
       "        vertical-align: middle;\n",
       "    }\n",
       "\n",
       "    .dataframe tbody tr th {\n",
       "        vertical-align: top;\n",
       "    }\n",
       "\n",
       "    .dataframe thead th {\n",
       "        text-align: right;\n",
       "    }\n",
       "</style>\n",
       "<table border=\"1\" class=\"dataframe\">\n",
       "  <thead>\n",
       "    <tr style=\"text-align: right;\">\n",
       "      <th></th>\n",
       "      <th>Close/Last</th>\n",
       "      <th>Open</th>\n",
       "      <th>High</th>\n",
       "      <th>Low</th>\n",
       "    </tr>\n",
       "  </thead>\n",
       "  <tbody>\n",
       "    <tr>\n",
       "      <th>count</th>\n",
       "      <td>2547.000000</td>\n",
       "      <td>2547.000000</td>\n",
       "      <td>2547.000000</td>\n",
       "      <td>2547.000000</td>\n",
       "    </tr>\n",
       "    <tr>\n",
       "      <th>mean</th>\n",
       "      <td>2636.079717</td>\n",
       "      <td>2613.014982</td>\n",
       "      <td>2626.619592</td>\n",
       "      <td>2598.248532</td>\n",
       "    </tr>\n",
       "    <tr>\n",
       "      <th>std</th>\n",
       "      <td>875.428068</td>\n",
       "      <td>918.483852</td>\n",
       "      <td>924.590848</td>\n",
       "      <td>911.661068</td>\n",
       "    </tr>\n",
       "    <tr>\n",
       "      <th>min</th>\n",
       "      <td>1353.330000</td>\n",
       "      <td>0.000000</td>\n",
       "      <td>0.000000</td>\n",
       "      <td>0.000000</td>\n",
       "    </tr>\n",
       "    <tr>\n",
       "      <th>25%</th>\n",
       "      <td>1993.820000</td>\n",
       "      <td>1986.670000</td>\n",
       "      <td>1996.035000</td>\n",
       "      <td>1977.555000</td>\n",
       "    </tr>\n",
       "    <tr>\n",
       "      <th>50%</th>\n",
       "      <td>2438.970000</td>\n",
       "      <td>2437.830000</td>\n",
       "      <td>2449.320000</td>\n",
       "      <td>2428.690000</td>\n",
       "    </tr>\n",
       "    <tr>\n",
       "      <th>75%</th>\n",
       "      <td>3037.225000</td>\n",
       "      <td>3039.260000</td>\n",
       "      <td>3064.565000</td>\n",
       "      <td>3006.700000</td>\n",
       "    </tr>\n",
       "    <tr>\n",
       "      <th>max</th>\n",
       "      <td>4796.560000</td>\n",
       "      <td>4804.510000</td>\n",
       "      <td>4818.620000</td>\n",
       "      <td>4780.040000</td>\n",
       "    </tr>\n",
       "  </tbody>\n",
       "</table>\n",
       "</div>"
      ],
      "text/plain": [
       "        Close/Last         Open         High          Low\n",
       "count  2547.000000  2547.000000  2547.000000  2547.000000\n",
       "mean   2636.079717  2613.014982  2626.619592  2598.248532\n",
       "std     875.428068   918.483852   924.590848   911.661068\n",
       "min    1353.330000     0.000000     0.000000     0.000000\n",
       "25%    1993.820000  1986.670000  1996.035000  1977.555000\n",
       "50%    2438.970000  2437.830000  2449.320000  2428.690000\n",
       "75%    3037.225000  3039.260000  3064.565000  3006.700000\n",
       "max    4796.560000  4804.510000  4818.620000  4780.040000"
      ]
     },
     "execution_count": 2,
     "metadata": {},
     "output_type": "execute_result"
    }
   ],
   "source": [
    "df.describe()"
   ]
  },
  {
   "cell_type": "code",
   "execution_count": 3,
   "id": "62634cf9",
   "metadata": {},
   "outputs": [
    {
     "data": {
      "text/html": [
       "<div>\n",
       "<style scoped>\n",
       "    .dataframe tbody tr th:only-of-type {\n",
       "        vertical-align: middle;\n",
       "    }\n",
       "\n",
       "    .dataframe tbody tr th {\n",
       "        vertical-align: top;\n",
       "    }\n",
       "\n",
       "    .dataframe thead th {\n",
       "        text-align: right;\n",
       "    }\n",
       "</style>\n",
       "<table border=\"1\" class=\"dataframe\">\n",
       "  <thead>\n",
       "    <tr style=\"text-align: right;\">\n",
       "      <th></th>\n",
       "      <th>Close/Last</th>\n",
       "      <th>Open</th>\n",
       "      <th>High</th>\n",
       "      <th>Low</th>\n",
       "    </tr>\n",
       "  </thead>\n",
       "  <tbody>\n",
       "    <tr>\n",
       "      <th>count</th>\n",
       "      <td>2515.000000</td>\n",
       "      <td>2515.000000</td>\n",
       "      <td>2515.000000</td>\n",
       "      <td>2515.000000</td>\n",
       "    </tr>\n",
       "    <tr>\n",
       "      <th>mean</th>\n",
       "      <td>2646.742119</td>\n",
       "      <td>2646.262091</td>\n",
       "      <td>2660.039801</td>\n",
       "      <td>2631.307757</td>\n",
       "    </tr>\n",
       "    <tr>\n",
       "      <th>std</th>\n",
       "      <td>875.354200</td>\n",
       "      <td>875.405696</td>\n",
       "      <td>881.371184</td>\n",
       "      <td>868.724048</td>\n",
       "    </tr>\n",
       "    <tr>\n",
       "      <th>min</th>\n",
       "      <td>1353.330000</td>\n",
       "      <td>1353.360000</td>\n",
       "      <td>1360.620000</td>\n",
       "      <td>1343.350000</td>\n",
       "    </tr>\n",
       "    <tr>\n",
       "      <th>25%</th>\n",
       "      <td>1999.485000</td>\n",
       "      <td>1998.225000</td>\n",
       "      <td>2009.420000</td>\n",
       "      <td>1989.280000</td>\n",
       "    </tr>\n",
       "    <tr>\n",
       "      <th>50%</th>\n",
       "      <td>2457.590000</td>\n",
       "      <td>2454.960000</td>\n",
       "      <td>2466.970000</td>\n",
       "      <td>2441.420000</td>\n",
       "    </tr>\n",
       "    <tr>\n",
       "      <th>75%</th>\n",
       "      <td>3061.160000</td>\n",
       "      <td>3063.660000</td>\n",
       "      <td>3084.575000</td>\n",
       "      <td>3031.830000</td>\n",
       "    </tr>\n",
       "    <tr>\n",
       "      <th>max</th>\n",
       "      <td>4796.560000</td>\n",
       "      <td>4804.510000</td>\n",
       "      <td>4818.620000</td>\n",
       "      <td>4780.040000</td>\n",
       "    </tr>\n",
       "  </tbody>\n",
       "</table>\n",
       "</div>"
      ],
      "text/plain": [
       "        Close/Last         Open         High          Low\n",
       "count  2515.000000  2515.000000  2515.000000  2515.000000\n",
       "mean   2646.742119  2646.262091  2660.039801  2631.307757\n",
       "std     875.354200   875.405696   881.371184   868.724048\n",
       "min    1353.330000  1353.360000  1360.620000  1343.350000\n",
       "25%    1999.485000  1998.225000  2009.420000  1989.280000\n",
       "50%    2457.590000  2454.960000  2466.970000  2441.420000\n",
       "75%    3061.160000  3063.660000  3084.575000  3031.830000\n",
       "max    4796.560000  4804.510000  4818.620000  4780.040000"
      ]
     },
     "execution_count": 3,
     "metadata": {},
     "output_type": "execute_result"
    }
   ],
   "source": [
    "#remove holidays (Open == 0)\n",
    "\n",
    "df = df.loc[~(df['Open']==0)]\n",
    "df.describe()"
   ]
  },
  {
   "cell_type": "code",
   "execution_count": 4,
   "id": "78458cb3",
   "metadata": {},
   "outputs": [
    {
     "name": "stdout",
     "output_type": "stream",
     "text": [
      "<class 'pandas.core.frame.DataFrame'>\n",
      "Int64Index: 2515 entries, 0 to 2546\n",
      "Data columns (total 6 columns):\n",
      " #   Column      Non-Null Count  Dtype  \n",
      "---  ------      --------------  -----  \n",
      " 0   Date        2515 non-null   object \n",
      " 1   Close/Last  2515 non-null   float64\n",
      " 2   Volume      2515 non-null   object \n",
      " 3   Open        2515 non-null   float64\n",
      " 4   High        2515 non-null   float64\n",
      " 5   Low         2515 non-null   float64\n",
      "dtypes: float64(4), object(2)\n",
      "memory usage: 137.5+ KB\n"
     ]
    }
   ],
   "source": [
    "df.info()"
   ]
  },
  {
   "cell_type": "code",
   "execution_count": 5,
   "id": "8b7a5035",
   "metadata": {},
   "outputs": [
    {
     "data": {
      "text/plain": [
       "(2515, 6)"
      ]
     },
     "execution_count": 5,
     "metadata": {},
     "output_type": "execute_result"
    }
   ],
   "source": [
    "df.shape"
   ]
  },
  {
   "cell_type": "code",
   "execution_count": 6,
   "id": "ac8615bf",
   "metadata": {},
   "outputs": [
    {
     "data": {
      "text/plain": [
       "Date          False\n",
       "Close/Last    False\n",
       "Volume        False\n",
       "Open          False\n",
       "High          False\n",
       "Low           False\n",
       "dtype: bool"
      ]
     },
     "execution_count": 6,
     "metadata": {},
     "output_type": "execute_result"
    }
   ],
   "source": [
    "df.isnull().any()"
   ]
  },
  {
   "cell_type": "code",
   "execution_count": 7,
   "id": "f7005b57",
   "metadata": {},
   "outputs": [
    {
     "data": {
      "text/plain": [
       "<function matplotlib.pyplot.show(close=None, block=None)>"
      ]
     },
     "execution_count": 7,
     "metadata": {},
     "output_type": "execute_result"
    },
    {
     "data": {
      "image/png": "[encoded data removed]",
      "text/plain": [
       "<Figure size 432x288 with 1 Axes>"
      ]
     },
     "metadata": {},
     "output_type": "display_data"
    }
   ],
   "source": [
    "sns.set()\n",
    "\n",
    "plt.hist(df['Close/Last'])\n",
    "plt.show"
   ]
  },
  {
   "cell_type": "code",
   "execution_count": 8,
   "id": "bb0a122c",
   "metadata": {},
   "outputs": [
    {
     "data": {
      "text/plain": [
       "4210.24"
      ]
     },
     "execution_count": 8,
     "metadata": {},
     "output_type": "execute_result"
    }
   ],
   "source": [
    "close_current = df['Close/Last'].iloc[0]\n",
    "close_current"
   ]
  },
  {
   "cell_type": "code",
   "execution_count": 9,
   "id": "e5f819b3",
   "metadata": {},
   "outputs": [
    {
     "data": {
      "text/plain": [
       "2646.7421192843044"
      ]
     },
     "execution_count": 9,
     "metadata": {},
     "output_type": "execute_result"
    }
   ],
   "source": [
    "close_mean = df['Close/Last'].mean()\n",
    "close_mean"
   ]
  },
  {
   "cell_type": "code",
   "execution_count": 10,
   "id": "da3f53bd",
   "metadata": {},
   "outputs": [
    {
     "data": {
      "text/plain": [
       "875.3542003875907"
      ]
     },
     "execution_count": 10,
     "metadata": {},
     "output_type": "execute_result"
    }
   ],
   "source": [
    "close_sd = df['Close/Last'].std()\n",
    "close_sd"
   ]
  },
  {
   "cell_type": "code",
   "execution_count": 11,
   "id": "d17e2d7b",
   "metadata": {},
   "outputs": [
    {
     "data": {
      "text/plain": [
       "3522.096319671895"
      ]
     },
     "execution_count": 11,
     "metadata": {},
     "output_type": "execute_result"
    }
   ],
   "source": [
    "sigma1 = close_mean + close_sd\n",
    "sigma1"
   ]
  },
  {
   "cell_type": "code",
   "execution_count": 12,
   "id": "38e6474d",
   "metadata": {},
   "outputs": [
    {
     "data": {
      "text/plain": [
       "4397.450520059486"
      ]
     },
     "execution_count": 12,
     "metadata": {},
     "output_type": "execute_result"
    }
   ],
   "source": [
    "sigma2 = close_mean + (2 * close_sd)\n",
    "sigma2"
   ]
  },
  {
   "cell_type": "code",
   "execution_count": 13,
   "id": "d1791a15",
   "metadata": {},
   "outputs": [
    {
     "data": {
      "text/plain": [
       "5272.804720447077"
      ]
     },
     "execution_count": 13,
     "metadata": {},
     "output_type": "execute_result"
    }
   ],
   "source": [
    "sigma3 = close_mean + (3 * close_sd)\n",
    "sigma3"
   ]
  },
  {
   "cell_type": "code",
   "execution_count": 14,
   "id": "51c65dd4",
   "metadata": {},
   "outputs": [
    {
     "name": "stdout",
     "output_type": "stream",
     "text": [
      "<class 'pandas.core.frame.DataFrame'>\n",
      "Int64Index: 2515 entries, 0 to 2546\n",
      "Data columns (total 2 columns):\n",
      " #   Column      Non-Null Count  Dtype         \n",
      "---  ------      --------------  -----         \n",
      " 0   Date        2515 non-null   datetime64[ns]\n",
      " 1   Close/Last  2515 non-null   float64       \n",
      "dtypes: datetime64[ns](1), float64(1)\n",
      "memory usage: 58.9 KB\n"
     ]
    }
   ],
   "source": [
    "cols = ['Date','Close/Last']\n",
    "df1 = df.loc[:,cols]\n",
    "df1['Date'] = pd.to_datetime(df1['Date'], format = \"%m/%d/%Y\" )\n",
    "df1.info()"
   ]
  },
  {
   "cell_type": "code",
   "execution_count": 15,
   "id": "68c3ba0d",
   "metadata": {},
   "outputs": [],
   "source": [
    "#Date Range\n",
    "date_start = min(df1['Date']).date()\n",
    "date_end = max(df1['Date']).date()"
   ]
  },
  {
   "cell_type": "code",
   "execution_count": 16,
   "id": "3eb98279",
   "metadata": {},
   "outputs": [
    {
     "data": {
      "text/plain": [
       "Text(0.5, 1.0, 'S&P 500 Daily Close/Last - 2012-08-13 to 2022-08-10')"
      ]
     },
     "execution_count": 16,
     "metadata": {},
     "output_type": "execute_result"
    },
    {
     "data": {
      "image/png": "[encoded data removed]",
      "text/plain": [
       "<Figure size 432x288 with 1 Axes>"
      ]
     },
     "metadata": {},
     "output_type": "display_data"
    }
   ],
   "source": [
    "#Daily S&P 500 Close/Last, vs mean and standard deviations\n",
    "\n",
    "if close_current > sigma2:\n",
    "    c = 'red'\n",
    "elif close_current > sigma1:\n",
    "    c = 'orange'\n",
    "else: \n",
    "    c = 'green'\n",
    "\n",
    "df1.plot(x='Date', y='Close/Last', color = c)\n",
    "plt.axhline(close_mean, color='black', label='Mean')\n",
    "plt.axhline(sigma1, color='black', linestyle='--', label='+1 standard deviation')\n",
    "plt.axhline(sigma2, color='black', linestyle=':', label='+2 standard deviations')\n",
    "plt.legend()\n",
    "plt.title(f'S&P 500 Daily Close/Last - {date_start} to {date_end}')"
   ]
  },
  {
   "cell_type": "code",
   "execution_count": 17,
   "id": "9d3de969",
   "metadata": {
    "scrolled": true
   },
   "outputs": [
    {
     "data": {
      "text/plain": [
       "Text(0.5, 1.0, 'Density: S&P 500 Daily Close/Last - 2012-08-13 to 2022-08-10')"
      ]
     },
     "execution_count": 17,
     "metadata": {},
     "output_type": "execute_result"
    },
    {
     "data": {
      "image/png": "[encoded data removed]",
      "text/plain": [
       "<Figure size 360x360 with 1 Axes>"
      ]
     },
     "metadata": {},
     "output_type": "display_data"
    }
   ],
   "source": [
    "# Using Kernal Density Estimation (kde) to approximate probability density function\n",
    "# https://seaborn.pydata.org/tutorial/distributions.html#kernel-density-estimation\n",
    "#bw_adjust: adjust bandwidth to smoothe out modalities\n",
    "\n",
    "sns.displot(df1['Close/Last'], kind='kde', bw_adjust=3.0) \n",
    "\n",
    "plt.axvline(close_mean, color='black', label='Mean')\n",
    "plt.axvline(sigma1, color='black', linestyle='--', label='+1 standard deviation')\n",
    "plt.axvline(sigma2, color='black', linestyle=':', label='+2 standard deviations')\n",
    "plt.axvline(close_current, color=c, label='Latest Close/Last')\n",
    "plt.legend(loc='upper left')\n",
    "plt.title(f'Density: S&P 500 Daily Close/Last - {date_start} to {date_end}')"
   ]
  },
  {
   "cell_type": "code",
   "execution_count": 18,
   "id": "7a9eb4a6",
   "metadata": {},
   "outputs": [
    {
     "data": {
      "text/plain": [
       "1.7861316939170535"
      ]
     },
     "execution_count": 18,
     "metadata": {},
     "output_type": "execute_result"
    }
   ],
   "source": [
    "z_score = (close_current - close_mean)/close_sd\n",
    "z_score"
   ]
  }
 ],
 "metadata": {
  "kernelspec": {
   "display_name": "Python 3 (ipykernel)",
   "language": "python",
   "name": "python3"
  },
  "language_info": {
   "codemirror_mode": {
    "name": "ipython",
    "version": 3
   },
   "file_extension": ".py",
   "mimetype": "text/x-python",
   "name": "python",
   "nbconvert_exporter": "python",
   "pygments_lexer": "ipython3",
   "version": "3.9.12"
  }
 },
 "nbformat": 4,
 "nbformat_minor": 5
}

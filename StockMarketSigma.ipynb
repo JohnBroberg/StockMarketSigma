{
 "cells": [
  {
   "cell_type": "markdown",
   "id": "9d294bb3",
   "metadata": {},
   "source": [
    "# Stock Market (S&P 500) Sigma (standard deviation) Analysis\n"
   ]
  },
  {
   "cell_type": "code",
   "execution_count": 1,
   "id": "020e6d3d",
   "metadata": {},
   "outputs": [
    {
     "data": {
      "text/html": [
       "<div>\n",
       "<style scoped>\n",
       "    .dataframe tbody tr th:only-of-type {\n",
       "        vertical-align: middle;\n",
       "    }\n",
       "\n",
       "    .dataframe tbody tr th {\n",
       "        vertical-align: top;\n",
       "    }\n",
       "\n",
       "    .dataframe thead th {\n",
       "        text-align: right;\n",
       "    }\n",
       "</style>\n",
       "<table border=\"1\" class=\"dataframe\">\n",
       "  <thead>\n",
       "    <tr style=\"text-align: right;\">\n",
       "      <th></th>\n",
       "      <th>Date</th>\n",
       "      <th>Close/Last</th>\n",
       "      <th>Open</th>\n",
       "      <th>High</th>\n",
       "      <th>Low</th>\n",
       "    </tr>\n",
       "  </thead>\n",
       "  <tbody>\n",
       "    <tr>\n",
       "      <th>0</th>\n",
       "      <td>01/31/2025</td>\n",
       "      <td>6040.53</td>\n",
       "      <td>6096.79</td>\n",
       "      <td>6120.91</td>\n",
       "      <td>6030.93</td>\n",
       "    </tr>\n",
       "    <tr>\n",
       "      <th>1</th>\n",
       "      <td>01/30/2025</td>\n",
       "      <td>6071.17</td>\n",
       "      <td>6050.75</td>\n",
       "      <td>6086.64</td>\n",
       "      <td>6027.46</td>\n",
       "    </tr>\n",
       "    <tr>\n",
       "      <th>2</th>\n",
       "      <td>01/29/2025</td>\n",
       "      <td>6039.31</td>\n",
       "      <td>6057.70</td>\n",
       "      <td>6062.83</td>\n",
       "      <td>6012.96</td>\n",
       "    </tr>\n",
       "    <tr>\n",
       "      <th>3</th>\n",
       "      <td>01/28/2025</td>\n",
       "      <td>6067.70</td>\n",
       "      <td>6026.97</td>\n",
       "      <td>6074.54</td>\n",
       "      <td>5994.63</td>\n",
       "    </tr>\n",
       "    <tr>\n",
       "      <th>4</th>\n",
       "      <td>01/27/2025</td>\n",
       "      <td>6012.28</td>\n",
       "      <td>5969.04</td>\n",
       "      <td>6017.17</td>\n",
       "      <td>5962.92</td>\n",
       "    </tr>\n",
       "    <tr>\n",
       "      <th>...</th>\n",
       "      <td>...</td>\n",
       "      <td>...</td>\n",
       "      <td>...</td>\n",
       "      <td>...</td>\n",
       "      <td>...</td>\n",
       "    </tr>\n",
       "    <tr>\n",
       "      <th>2517</th>\n",
       "      <td>02/09/2015</td>\n",
       "      <td>2046.74</td>\n",
       "      <td>2053.47</td>\n",
       "      <td>2056.16</td>\n",
       "      <td>2041.88</td>\n",
       "    </tr>\n",
       "    <tr>\n",
       "      <th>2518</th>\n",
       "      <td>02/06/2015</td>\n",
       "      <td>2055.47</td>\n",
       "      <td>2062.28</td>\n",
       "      <td>2072.40</td>\n",
       "      <td>2049.97</td>\n",
       "    </tr>\n",
       "    <tr>\n",
       "      <th>2519</th>\n",
       "      <td>02/05/2015</td>\n",
       "      <td>2062.52</td>\n",
       "      <td>2043.45</td>\n",
       "      <td>2063.55</td>\n",
       "      <td>2043.45</td>\n",
       "    </tr>\n",
       "    <tr>\n",
       "      <th>2520</th>\n",
       "      <td>02/04/2015</td>\n",
       "      <td>2041.51</td>\n",
       "      <td>2048.86</td>\n",
       "      <td>2054.74</td>\n",
       "      <td>2036.72</td>\n",
       "    </tr>\n",
       "    <tr>\n",
       "      <th>2521</th>\n",
       "      <td>02/03/2015</td>\n",
       "      <td>2050.03</td>\n",
       "      <td>2022.71</td>\n",
       "      <td>2050.30</td>\n",
       "      <td>2022.71</td>\n",
       "    </tr>\n",
       "  </tbody>\n",
       "</table>\n",
       "<p>2522 rows × 5 columns</p>\n",
       "</div>"
      ],
      "text/plain": [
       "            Date  Close/Last     Open     High      Low\n",
       "0     01/31/2025     6040.53  6096.79  6120.91  6030.93\n",
       "1     01/30/2025     6071.17  6050.75  6086.64  6027.46\n",
       "2     01/29/2025     6039.31  6057.70  6062.83  6012.96\n",
       "3     01/28/2025     6067.70  6026.97  6074.54  5994.63\n",
       "4     01/27/2025     6012.28  5969.04  6017.17  5962.92\n",
       "...          ...         ...      ...      ...      ...\n",
       "2517  02/09/2015     2046.74  2053.47  2056.16  2041.88\n",
       "2518  02/06/2015     2055.47  2062.28  2072.40  2049.97\n",
       "2519  02/05/2015     2062.52  2043.45  2063.55  2043.45\n",
       "2520  02/04/2015     2041.51  2048.86  2054.74  2036.72\n",
       "2521  02/03/2015     2050.03  2022.71  2050.30  2022.71\n",
       "\n",
       "[2522 rows x 5 columns]"
      ]
     },
     "execution_count": 1,
     "metadata": {},
     "output_type": "execute_result"
    }
   ],
   "source": [
    "#created by John Broberg on 2022-05-29\n",
    "#inspired by \"LET THE WILD RUMPUS BEGIN\" by JEREMY GRANTHAM of GMO\n",
    "#ref. https://www.gmo.com/globalassets/articles/viewpoints/2022/gmo_let-the-wild-rumpus-begin_1-22.pdf\n",
    "\n",
    "#https://www.gmo.com/americas/research-library/entering-the-superbubbles-final-act/\n",
    "#\"...superbubbles – 2.5 to 3 sigma events...\"\n",
    "#\"...ordinary 2 sigma bubbles...\"\n",
    "#\"Ordinary bubbles are, to us, those that reach a 2 sigma deviation from trend. Superbubbles reach 2.5 sigma or greater.\"\n",
    "\n",
    "#source data: https://www.nasdaq.com/market-activity/index/spx/historical\n",
    "\n",
    "#cd\n",
    "#cd git/StockMarketSigma\n",
    "#git pull https://github.com/JohnBroberg/StockMarketSigma.git\n",
    "\n",
    "#Get trendline equation\n",
    "#https://stackoverflow.com/questions/49460596/add-trendline-with-equation-in-2d-array\n",
    "#https://stackoverflow.com/questions/26447191/how-to-add-trendline-in-python-matplotlib-dot-scatter-graphs\n",
    "\n",
    "\n",
    "import pandas as pd\n",
    "import numpy as np\n",
    "import matplotlib.pyplot as plt\n",
    "import seaborn as sns\n",
    "\n",
    "data = 'HistoricalData_1738623308487.csv'\n",
    "df = pd.read_csv(data)\n",
    "\n",
    "df\n"
   ]
  },
  {
   "cell_type": "code",
   "execution_count": 2,
   "id": "3cb9ac74",
   "metadata": {},
   "outputs": [
    {
     "data": {
      "text/html": [
       "<div>\n",
       "<style scoped>\n",
       "    .dataframe tbody tr th:only-of-type {\n",
       "        vertical-align: middle;\n",
       "    }\n",
       "\n",
       "    .dataframe tbody tr th {\n",
       "        vertical-align: top;\n",
       "    }\n",
       "\n",
       "    .dataframe thead th {\n",
       "        text-align: right;\n",
       "    }\n",
       "</style>\n",
       "<table border=\"1\" class=\"dataframe\">\n",
       "  <thead>\n",
       "    <tr style=\"text-align: right;\">\n",
       "      <th></th>\n",
       "      <th>Close/Last</th>\n",
       "      <th>Open</th>\n",
       "      <th>High</th>\n",
       "      <th>Low</th>\n",
       "    </tr>\n",
       "  </thead>\n",
       "  <tbody>\n",
       "    <tr>\n",
       "      <th>count</th>\n",
       "      <td>2522.000000</td>\n",
       "      <td>2522.000000</td>\n",
       "      <td>2522.000000</td>\n",
       "      <td>2522.000000</td>\n",
       "    </tr>\n",
       "    <tr>\n",
       "      <th>mean</th>\n",
       "      <td>3384.401221</td>\n",
       "      <td>3378.178807</td>\n",
       "      <td>3396.055872</td>\n",
       "      <td>3358.932181</td>\n",
       "    </tr>\n",
       "    <tr>\n",
       "      <th>std</th>\n",
       "      <td>1102.662152</td>\n",
       "      <td>1114.635032</td>\n",
       "      <td>1120.186337</td>\n",
       "      <td>1108.866631</td>\n",
       "    </tr>\n",
       "    <tr>\n",
       "      <th>min</th>\n",
       "      <td>1829.080000</td>\n",
       "      <td>0.000000</td>\n",
       "      <td>0.000000</td>\n",
       "      <td>0.000000</td>\n",
       "    </tr>\n",
       "    <tr>\n",
       "      <th>25%</th>\n",
       "      <td>2440.435000</td>\n",
       "      <td>2442.410000</td>\n",
       "      <td>2450.480000</td>\n",
       "      <td>2431.152500</td>\n",
       "    </tr>\n",
       "    <tr>\n",
       "      <th>50%</th>\n",
       "      <td>3027.795000</td>\n",
       "      <td>3028.645000</td>\n",
       "      <td>3049.635000</td>\n",
       "      <td>3002.420000</td>\n",
       "    </tr>\n",
       "    <tr>\n",
       "      <th>75%</th>\n",
       "      <td>4229.780000</td>\n",
       "      <td>4233.605000</td>\n",
       "      <td>4264.577500</td>\n",
       "      <td>4205.430000</td>\n",
       "    </tr>\n",
       "    <tr>\n",
       "      <th>max</th>\n",
       "      <td>6118.710000</td>\n",
       "      <td>6121.430000</td>\n",
       "      <td>6128.180000</td>\n",
       "      <td>6088.740000</td>\n",
       "    </tr>\n",
       "  </tbody>\n",
       "</table>\n",
       "</div>"
      ],
      "text/plain": [
       "        Close/Last         Open         High          Low\n",
       "count  2522.000000  2522.000000  2522.000000  2522.000000\n",
       "mean   3384.401221  3378.178807  3396.055872  3358.932181\n",
       "std    1102.662152  1114.635032  1120.186337  1108.866631\n",
       "min    1829.080000     0.000000     0.000000     0.000000\n",
       "25%    2440.435000  2442.410000  2450.480000  2431.152500\n",
       "50%    3027.795000  3028.645000  3049.635000  3002.420000\n",
       "75%    4229.780000  4233.605000  4264.577500  4205.430000\n",
       "max    6118.710000  6121.430000  6128.180000  6088.740000"
      ]
     },
     "execution_count": 2,
     "metadata": {},
     "output_type": "execute_result"
    }
   ],
   "source": [
    "df.describe()"
   ]
  },
  {
   "cell_type": "code",
   "execution_count": 3,
   "id": "62634cf9",
   "metadata": {},
   "outputs": [
    {
     "data": {
      "text/html": [
       "<div>\n",
       "<style scoped>\n",
       "    .dataframe tbody tr th:only-of-type {\n",
       "        vertical-align: middle;\n",
       "    }\n",
       "\n",
       "    .dataframe tbody tr th {\n",
       "        vertical-align: top;\n",
       "    }\n",
       "\n",
       "    .dataframe thead th {\n",
       "        text-align: right;\n",
       "    }\n",
       "</style>\n",
       "<table border=\"1\" class=\"dataframe\">\n",
       "  <thead>\n",
       "    <tr style=\"text-align: right;\">\n",
       "      <th></th>\n",
       "      <th>Close/Last</th>\n",
       "      <th>Open</th>\n",
       "      <th>High</th>\n",
       "      <th>Low</th>\n",
       "    </tr>\n",
       "  </thead>\n",
       "  <tbody>\n",
       "    <tr>\n",
       "      <th>count</th>\n",
       "      <td>2515.000000</td>\n",
       "      <td>2515.000000</td>\n",
       "      <td>2515.000000</td>\n",
       "      <td>2515.000000</td>\n",
       "    </tr>\n",
       "    <tr>\n",
       "      <th>mean</th>\n",
       "      <td>3388.080322</td>\n",
       "      <td>3387.581292</td>\n",
       "      <td>3405.508115</td>\n",
       "      <td>3368.281097</td>\n",
       "    </tr>\n",
       "    <tr>\n",
       "      <th>std</th>\n",
       "      <td>1101.980130</td>\n",
       "      <td>1101.819531</td>\n",
       "      <td>1107.297999</td>\n",
       "      <td>1096.132550</td>\n",
       "    </tr>\n",
       "    <tr>\n",
       "      <th>min</th>\n",
       "      <td>1829.080000</td>\n",
       "      <td>1833.400000</td>\n",
       "      <td>1847.000000</td>\n",
       "      <td>1810.100000</td>\n",
       "    </tr>\n",
       "    <tr>\n",
       "      <th>25%</th>\n",
       "      <td>2444.140000</td>\n",
       "      <td>2444.800000</td>\n",
       "      <td>2454.365000</td>\n",
       "      <td>2435.970000</td>\n",
       "    </tr>\n",
       "    <tr>\n",
       "      <th>50%</th>\n",
       "      <td>3037.560000</td>\n",
       "      <td>3039.740000</td>\n",
       "      <td>3066.950000</td>\n",
       "      <td>3008.770000</td>\n",
       "    </tr>\n",
       "    <tr>\n",
       "      <th>75%</th>\n",
       "      <td>4235.230000</td>\n",
       "      <td>4234.310000</td>\n",
       "      <td>4267.705000</td>\n",
       "      <td>4209.105000</td>\n",
       "    </tr>\n",
       "    <tr>\n",
       "      <th>max</th>\n",
       "      <td>6118.710000</td>\n",
       "      <td>6121.430000</td>\n",
       "      <td>6128.180000</td>\n",
       "      <td>6088.740000</td>\n",
       "    </tr>\n",
       "  </tbody>\n",
       "</table>\n",
       "</div>"
      ],
      "text/plain": [
       "        Close/Last         Open         High          Low\n",
       "count  2515.000000  2515.000000  2515.000000  2515.000000\n",
       "mean   3388.080322  3387.581292  3405.508115  3368.281097\n",
       "std    1101.980130  1101.819531  1107.297999  1096.132550\n",
       "min    1829.080000  1833.400000  1847.000000  1810.100000\n",
       "25%    2444.140000  2444.800000  2454.365000  2435.970000\n",
       "50%    3037.560000  3039.740000  3066.950000  3008.770000\n",
       "75%    4235.230000  4234.310000  4267.705000  4209.105000\n",
       "max    6118.710000  6121.430000  6128.180000  6088.740000"
      ]
     },
     "execution_count": 3,
     "metadata": {},
     "output_type": "execute_result"
    }
   ],
   "source": [
    "#remove holidays (Open == 0)\n",
    "\n",
    "df = df.loc[~(df['Open']==0)]\n",
    "df.describe()"
   ]
  },
  {
   "cell_type": "code",
   "execution_count": 4,
   "id": "78458cb3",
   "metadata": {},
   "outputs": [
    {
     "name": "stdout",
     "output_type": "stream",
     "text": [
      "<class 'pandas.core.frame.DataFrame'>\n",
      "Int64Index: 2515 entries, 0 to 2521\n",
      "Data columns (total 5 columns):\n",
      " #   Column      Non-Null Count  Dtype  \n",
      "---  ------      --------------  -----  \n",
      " 0   Date        2515 non-null   object \n",
      " 1   Close/Last  2515 non-null   float64\n",
      " 2   Open        2515 non-null   float64\n",
      " 3   High        2515 non-null   float64\n",
      " 4   Low         2515 non-null   float64\n",
      "dtypes: float64(4), object(1)\n",
      "memory usage: 117.9+ KB\n"
     ]
    }
   ],
   "source": [
    "df.info()"
   ]
  },
  {
   "cell_type": "code",
   "execution_count": 5,
   "id": "8b7a5035",
   "metadata": {},
   "outputs": [
    {
     "data": {
      "text/plain": [
       "(2515, 5)"
      ]
     },
     "execution_count": 5,
     "metadata": {},
     "output_type": "execute_result"
    }
   ],
   "source": [
    "df.shape"
   ]
  },
  {
   "cell_type": "code",
   "execution_count": 6,
   "id": "ac8615bf",
   "metadata": {},
   "outputs": [
    {
     "data": {
      "text/plain": [
       "Date          False\n",
       "Close/Last    False\n",
       "Open          False\n",
       "High          False\n",
       "Low           False\n",
       "dtype: bool"
      ]
     },
     "execution_count": 6,
     "metadata": {},
     "output_type": "execute_result"
    }
   ],
   "source": [
    "df.isnull().any()"
   ]
  },
  {
   "cell_type": "code",
   "execution_count": 7,
   "id": "f7005b57",
   "metadata": {},
   "outputs": [
    {
     "data": {
      "text/plain": [
       "<function matplotlib.pyplot.show(close=None, block=None)>"
      ]
     },
     "execution_count": 7,
     "metadata": {},
     "output_type": "execute_result"
    },
    {
     "data": {
      "image/png": "[encoded data removed]",
      "text/plain": [
       "<Figure size 432x288 with 1 Axes>"
      ]
     },
     "metadata": {},
     "output_type": "display_data"
    }
   ],
   "source": [
    "sns.set()\n",
    "\n",
    "plt.hist(df['Close/Last'])\n",
    "plt.show"
   ]
  },
  {
   "cell_type": "code",
   "execution_count": 8,
   "id": "bb0a122c",
   "metadata": {},
   "outputs": [
    {
     "data": {
      "text/plain": [
       "6040.53"
      ]
     },
     "execution_count": 8,
     "metadata": {},
     "output_type": "execute_result"
    }
   ],
   "source": [
    "close_current = df['Close/Last'].iloc[0]\n",
    "close_current"
   ]
  },
  {
   "cell_type": "code",
   "execution_count": 9,
   "id": "e5f819b3",
   "metadata": {},
   "outputs": [
    {
     "data": {
      "text/plain": [
       "3388.0803220675934"
      ]
     },
     "execution_count": 9,
     "metadata": {},
     "output_type": "execute_result"
    }
   ],
   "source": [
    "close_mean = df['Close/Last'].mean()\n",
    "close_mean"
   ]
  },
  {
   "cell_type": "code",
   "execution_count": 10,
   "id": "da3f53bd",
   "metadata": {},
   "outputs": [
    {
     "data": {
      "text/plain": [
       "1101.9801301405928"
      ]
     },
     "execution_count": 10,
     "metadata": {},
     "output_type": "execute_result"
    }
   ],
   "source": [
    "close_sd = df['Close/Last'].std()\n",
    "close_sd"
   ]
  },
  {
   "cell_type": "code",
   "execution_count": 11,
   "id": "d17e2d7b",
   "metadata": {},
   "outputs": [
    {
     "data": {
      "text/plain": [
       "4490.060452208187"
      ]
     },
     "execution_count": 11,
     "metadata": {},
     "output_type": "execute_result"
    }
   ],
   "source": [
    "sigma1 = close_mean + close_sd\n",
    "sigma1"
   ]
  },
  {
   "cell_type": "code",
   "execution_count": 12,
   "id": "38e6474d",
   "metadata": {},
   "outputs": [
    {
     "data": {
      "text/plain": [
       "5592.040582348779"
      ]
     },
     "execution_count": 12,
     "metadata": {},
     "output_type": "execute_result"
    }
   ],
   "source": [
    "sigma2 = close_mean + (2 * close_sd)  #bubble (from trend) according to Grantham\n",
    "sigma2"
   ]
  },
  {
   "cell_type": "code",
   "execution_count": 13,
   "id": "d1791a15",
   "metadata": {},
   "outputs": [
    {
     "data": {
      "text/plain": [
       "6143.030647419076"
      ]
     },
     "execution_count": 13,
     "metadata": {},
     "output_type": "execute_result"
    }
   ],
   "source": [
    "sigma2_5 = close_mean + (2.5 * close_sd)  #super bubble (from trend) according to Grantham\n",
    "sigma2_5"
   ]
  },
  {
   "cell_type": "code",
   "execution_count": 14,
   "id": "51c65dd4",
   "metadata": {},
   "outputs": [
    {
     "name": "stdout",
     "output_type": "stream",
     "text": [
      "<class 'pandas.core.frame.DataFrame'>\n",
      "Int64Index: 2515 entries, 0 to 2521\n",
      "Data columns (total 2 columns):\n",
      " #   Column      Non-Null Count  Dtype         \n",
      "---  ------      --------------  -----         \n",
      " 0   Date        2515 non-null   datetime64[ns]\n",
      " 1   Close/Last  2515 non-null   float64       \n",
      "dtypes: datetime64[ns](1), float64(1)\n",
      "memory usage: 58.9 KB\n"
     ]
    }
   ],
   "source": [
    "cols = ['Date','Close/Last']\n",
    "df1 = df.loc[:,cols]\n",
    "df1['Date'] = pd.to_datetime(df1['Date'], format = \"%m/%d/%Y\" )\n",
    "df1.info()"
   ]
  },
  {
   "cell_type": "code",
   "execution_count": 15,
   "id": "68c3ba0d",
   "metadata": {},
   "outputs": [],
   "source": [
    "#Date Range\n",
    "date_start = min(df1['Date']).date()\n",
    "date_end = max(df1['Date']).date()"
   ]
  },
  {
   "cell_type": "code",
   "execution_count": 16,
   "id": "3eb98279",
   "metadata": {},
   "outputs": [
    {
     "data": {
      "text/plain": [
       "Text(0.5, 1.0, 'S&P 500 Daily Close/Last - 2015-02-03 to 2025-01-31')"
      ]
     },
     "execution_count": 16,
     "metadata": {},
     "output_type": "execute_result"
    },
    {
     "data": {
      "image/png": "[encoded data removed]",
      "text/plain": [
       "<Figure size 432x288 with 1 Axes>"
      ]
     },
     "metadata": {},
     "output_type": "display_data"
    }
   ],
   "source": [
    "#Daily S&P 500 Close/Last, vs mean and standard deviations\n",
    "\n",
    "if close_current > sigma2:\n",
    "    c = 'red'\n",
    "elif close_current > sigma1:\n",
    "    c = 'orange'\n",
    "else: \n",
    "    c = 'green'\n",
    "\n",
    "df1.plot(x='Date', y='Close/Last', color = c)\n",
    "plt.axhline(close_mean, color='black', label='Mean')\n",
    "plt.axhline(sigma1, color='black', linestyle='--', label='+1 standard deviation')\n",
    "plt.axhline(sigma2, color='black', linestyle=':', label='+2 standard deviations')\n",
    "plt.legend()\n",
    "plt.title(f'S&P 500 Daily Close/Last - {date_start} to {date_end}')"
   ]
  },
  {
   "cell_type": "code",
   "execution_count": 17,
   "id": "9d3de969",
   "metadata": {
    "scrolled": true
   },
   "outputs": [
    {
     "data": {
      "text/plain": [
       "Text(0.5, 1.0, 'Density: S&P 500 Daily Close/Last - 2015-02-03 to 2025-01-31')"
      ]
     },
     "execution_count": 17,
     "metadata": {},
     "output_type": "execute_result"
    },
    {
     "data": {
      "image/png": "[encoded data removed]",
      "text/plain": [
       "<Figure size 360x360 with 1 Axes>"
      ]
     },
     "metadata": {},
     "output_type": "display_data"
    }
   ],
   "source": [
    "# Using Kernal Density Estimation (kde) to approximate probability density function\n",
    "# https://seaborn.pydata.org/tutorial/distributions.html #kernel-density-estimation\n",
    "#bw_adjust: adjust bandwidth to smoothe out modalities\n",
    "\n",
    "sns.displot(df1['Close/Last'], kind='kde', bw_adjust=3.0) \n",
    "\n",
    "plt.axvline(close_current, color=c, label='Close/Last')\n",
    "plt.axvline(close_mean, color='black', label='Mean')\n",
    "plt.axvline(sigma1, color='black', linestyle='--', label='+1 standard deviations')\n",
    "plt.axvline(sigma2, color='black', linestyle=':', label='+2 standard deviations')\n",
    "plt.legend(loc='upper left')\n",
    "plt.title(f'Density: S&P 500 Daily Close/Last - {date_start} to {date_end}')"
   ]
  },
  {
   "cell_type": "code",
   "execution_count": 18,
   "id": "7a9eb4a6",
   "metadata": {},
   "outputs": [
    {
     "data": {
      "text/plain": [
       "2.4069850312037855"
      ]
     },
     "execution_count": 18,
     "metadata": {},
     "output_type": "execute_result"
    }
   ],
   "source": [
    "z_score = (close_current - close_mean)/close_sd\n",
    "z_score"
   ]
  },
  {
   "cell_type": "code",
   "execution_count": 19,
   "id": "108ec4ba",
   "metadata": {},
   "outputs": [],
   "source": [
    "# https://realpython.com/linear-regression-in-python/\n",
    "#Step 4: Get results"
   ]
  }
 ],
 "metadata": {
  "kernelspec": {
   "display_name": "Python 3 (ipykernel)",
   "language": "python",
   "name": "python3"
  },
  "language_info": {
   "codemirror_mode": {
    "name": "ipython",
    "version": 3
   },
   "file_extension": ".py",
   "mimetype": "text/x-python",
   "name": "python",
   "nbconvert_exporter": "python",
   "pygments_lexer": "ipython3",
   "version": "3.9.7"
  }
 },
 "nbformat": 4,
 "nbformat_minor": 5
}

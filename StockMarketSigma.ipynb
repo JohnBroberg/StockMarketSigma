{
 "cells": [
  {
   "cell_type": "markdown",
   "id": "9d294bb3",
   "metadata": {},
   "source": [
    "# Stock Market (S&P 500) Sigma (standard deviation) Analysis\n"
   ]
  },
  {
   "cell_type": "code",
   "execution_count": 1,
   "id": "020e6d3d",
   "metadata": {},
   "outputs": [
    {
     "data": {
      "text/html": [
       "<div>\n",
       "<style scoped>\n",
       "    .dataframe tbody tr th:only-of-type {\n",
       "        vertical-align: middle;\n",
       "    }\n",
       "\n",
       "    .dataframe tbody tr th {\n",
       "        vertical-align: top;\n",
       "    }\n",
       "\n",
       "    .dataframe thead th {\n",
       "        text-align: right;\n",
       "    }\n",
       "</style>\n",
       "<table border=\"1\" class=\"dataframe\">\n",
       "  <thead>\n",
       "    <tr style=\"text-align: right;\">\n",
       "      <th></th>\n",
       "      <th>Date</th>\n",
       "      <th>Close/Last</th>\n",
       "      <th>Open</th>\n",
       "      <th>High</th>\n",
       "      <th>Low</th>\n",
       "    </tr>\n",
       "  </thead>\n",
       "  <tbody>\n",
       "    <tr>\n",
       "      <th>0</th>\n",
       "      <td>11/15/2024</td>\n",
       "      <td>5870.62</td>\n",
       "      <td>5912.79</td>\n",
       "      <td>5915.32</td>\n",
       "      <td>5853.01</td>\n",
       "    </tr>\n",
       "    <tr>\n",
       "      <th>1</th>\n",
       "      <td>11/14/2024</td>\n",
       "      <td>5949.17</td>\n",
       "      <td>5989.68</td>\n",
       "      <td>5993.88</td>\n",
       "      <td>5942.28</td>\n",
       "    </tr>\n",
       "    <tr>\n",
       "      <th>2</th>\n",
       "      <td>11/13/2024</td>\n",
       "      <td>5985.38</td>\n",
       "      <td>5985.75</td>\n",
       "      <td>6008.19</td>\n",
       "      <td>5965.91</td>\n",
       "    </tr>\n",
       "    <tr>\n",
       "      <th>3</th>\n",
       "      <td>11/12/2024</td>\n",
       "      <td>5983.99</td>\n",
       "      <td>6003.60</td>\n",
       "      <td>6009.92</td>\n",
       "      <td>5960.08</td>\n",
       "    </tr>\n",
       "    <tr>\n",
       "      <th>4</th>\n",
       "      <td>11/11/2024</td>\n",
       "      <td>6001.35</td>\n",
       "      <td>6008.86</td>\n",
       "      <td>6017.31</td>\n",
       "      <td>5986.69</td>\n",
       "    </tr>\n",
       "    <tr>\n",
       "      <th>...</th>\n",
       "      <td>...</td>\n",
       "      <td>...</td>\n",
       "      <td>...</td>\n",
       "      <td>...</td>\n",
       "      <td>...</td>\n",
       "    </tr>\n",
       "    <tr>\n",
       "      <th>2522</th>\n",
       "      <td>11/24/2014</td>\n",
       "      <td>2069.41</td>\n",
       "      <td>2065.07</td>\n",
       "      <td>2070.17</td>\n",
       "      <td>2065.07</td>\n",
       "    </tr>\n",
       "    <tr>\n",
       "      <th>2523</th>\n",
       "      <td>11/21/2014</td>\n",
       "      <td>2063.50</td>\n",
       "      <td>2057.46</td>\n",
       "      <td>2071.46</td>\n",
       "      <td>2056.75</td>\n",
       "    </tr>\n",
       "    <tr>\n",
       "      <th>2524</th>\n",
       "      <td>11/20/2014</td>\n",
       "      <td>2052.75</td>\n",
       "      <td>2045.87</td>\n",
       "      <td>2053.84</td>\n",
       "      <td>2040.49</td>\n",
       "    </tr>\n",
       "    <tr>\n",
       "      <th>2525</th>\n",
       "      <td>11/19/2014</td>\n",
       "      <td>2048.72</td>\n",
       "      <td>2051.16</td>\n",
       "      <td>2052.14</td>\n",
       "      <td>2040.37</td>\n",
       "    </tr>\n",
       "    <tr>\n",
       "      <th>2526</th>\n",
       "      <td>11/18/2014</td>\n",
       "      <td>2051.80</td>\n",
       "      <td>2041.48</td>\n",
       "      <td>2056.08</td>\n",
       "      <td>2041.48</td>\n",
       "    </tr>\n",
       "  </tbody>\n",
       "</table>\n",
       "<p>2527 rows × 5 columns</p>\n",
       "</div>"
      ],
      "text/plain": [
       "            Date  Close/Last     Open     High      Low\n",
       "0     11/15/2024     5870.62  5912.79  5915.32  5853.01\n",
       "1     11/14/2024     5949.17  5989.68  5993.88  5942.28\n",
       "2     11/13/2024     5985.38  5985.75  6008.19  5965.91\n",
       "3     11/12/2024     5983.99  6003.60  6009.92  5960.08\n",
       "4     11/11/2024     6001.35  6008.86  6017.31  5986.69\n",
       "...          ...         ...      ...      ...      ...\n",
       "2522  11/24/2014     2069.41  2065.07  2070.17  2065.07\n",
       "2523  11/21/2014     2063.50  2057.46  2071.46  2056.75\n",
       "2524  11/20/2014     2052.75  2045.87  2053.84  2040.49\n",
       "2525  11/19/2014     2048.72  2051.16  2052.14  2040.37\n",
       "2526  11/18/2014     2051.80  2041.48  2056.08  2041.48\n",
       "\n",
       "[2527 rows x 5 columns]"
      ]
     },
     "execution_count": 1,
     "metadata": {},
     "output_type": "execute_result"
    }
   ],
   "source": [
    "#created by John Broberg on 2022-05-29\n",
    "#inspired by \"LET THE WILD RUMPUS BEGIN\" by JEREMY GRANTHAM of GMO\n",
    "#ref. https://www.gmo.com/globalassets/articles/viewpoints/2022/gmo_let-the-wild-rumpus-begin_1-22.pdf\n",
    "\n",
    "#https://www.gmo.com/americas/research-library/entering-the-superbubbles-final-act/\n",
    "#\"...superbubbles – 2.5 to 3 sigma events...\"\n",
    "#\"...ordinary 2 sigma bubbles...\"\n",
    "#\"Ordinary bubbles are, to us, those that reach a 2 sigma deviation from trend. Superbubbles reach 2.5 sigma or greater.\"\n",
    "\n",
    "#source data: https://www.nasdaq.com/market-activity/index/spx/historical\n",
    "\n",
    "#cd\n",
    "#cd git/StockMarketSigma\n",
    "#git pull https://github.com/JohnBroberg/StockMarketSigma.git\n",
    "\n",
    "#Get trendline equation\n",
    "#https://stackoverflow.com/questions/49460596/add-trendline-with-equation-in-2d-array\n",
    "#https://stackoverflow.com/questions/26447191/how-to-add-trendline-in-python-matplotlib-dot-scatter-graphs\n",
    "\n",
    "\n",
    "import pandas as pd\n",
    "import numpy as np\n",
    "import matplotlib.pyplot as plt\n",
    "import seaborn as sns\n",
    "\n",
    "data = 'HistoricalData_1731952601161.csv'\n",
    "df = pd.read_csv(data)\n",
    "\n",
    "df\n"
   ]
  },
  {
   "cell_type": "code",
   "execution_count": 2,
   "id": "3cb9ac74",
   "metadata": {},
   "outputs": [
    {
     "data": {
      "text/html": [
       "<div>\n",
       "<style scoped>\n",
       "    .dataframe tbody tr th:only-of-type {\n",
       "        vertical-align: middle;\n",
       "    }\n",
       "\n",
       "    .dataframe tbody tr th {\n",
       "        vertical-align: top;\n",
       "    }\n",
       "\n",
       "    .dataframe thead th {\n",
       "        text-align: right;\n",
       "    }\n",
       "</style>\n",
       "<table border=\"1\" class=\"dataframe\">\n",
       "  <thead>\n",
       "    <tr style=\"text-align: right;\">\n",
       "      <th></th>\n",
       "      <th>Close/Last</th>\n",
       "      <th>Open</th>\n",
       "      <th>High</th>\n",
       "      <th>Low</th>\n",
       "    </tr>\n",
       "  </thead>\n",
       "  <tbody>\n",
       "    <tr>\n",
       "      <th>count</th>\n",
       "      <td>2527.000000</td>\n",
       "      <td>2527.000000</td>\n",
       "      <td>2527.000000</td>\n",
       "      <td>2527.000000</td>\n",
       "    </tr>\n",
       "    <tr>\n",
       "      <th>mean</th>\n",
       "      <td>3303.703807</td>\n",
       "      <td>3294.247044</td>\n",
       "      <td>3311.801789</td>\n",
       "      <td>3275.385683</td>\n",
       "    </tr>\n",
       "    <tr>\n",
       "      <th>std</th>\n",
       "      <td>1054.263134</td>\n",
       "      <td>1073.175594</td>\n",
       "      <td>1078.775479</td>\n",
       "      <td>1067.457785</td>\n",
       "    </tr>\n",
       "    <tr>\n",
       "      <th>min</th>\n",
       "      <td>1829.080000</td>\n",
       "      <td>0.000000</td>\n",
       "      <td>0.000000</td>\n",
       "      <td>0.000000</td>\n",
       "    </tr>\n",
       "    <tr>\n",
       "      <th>25%</th>\n",
       "      <td>2388.470000</td>\n",
       "      <td>2389.340000</td>\n",
       "      <td>2394.620000</td>\n",
       "      <td>2379.940000</td>\n",
       "    </tr>\n",
       "    <tr>\n",
       "      <th>50%</th>\n",
       "      <td>2972.370000</td>\n",
       "      <td>2969.950000</td>\n",
       "      <td>2985.030000</td>\n",
       "      <td>2955.920000</td>\n",
       "    </tr>\n",
       "    <tr>\n",
       "      <th>75%</th>\n",
       "      <td>4171.905000</td>\n",
       "      <td>4170.310000</td>\n",
       "      <td>4194.180000</td>\n",
       "      <td>4144.885000</td>\n",
       "    </tr>\n",
       "    <tr>\n",
       "      <th>max</th>\n",
       "      <td>6001.350000</td>\n",
       "      <td>6008.860000</td>\n",
       "      <td>6017.310000</td>\n",
       "      <td>5986.690000</td>\n",
       "    </tr>\n",
       "  </tbody>\n",
       "</table>\n",
       "</div>"
      ],
      "text/plain": [
       "        Close/Last         Open         High          Low\n",
       "count  2527.000000  2527.000000  2527.000000  2527.000000\n",
       "mean   3303.703807  3294.247044  3311.801789  3275.385683\n",
       "std    1054.263134  1073.175594  1078.775479  1067.457785\n",
       "min    1829.080000     0.000000     0.000000     0.000000\n",
       "25%    2388.470000  2389.340000  2394.620000  2379.940000\n",
       "50%    2972.370000  2969.950000  2985.030000  2955.920000\n",
       "75%    4171.905000  4170.310000  4194.180000  4144.885000\n",
       "max    6001.350000  6008.860000  6017.310000  5986.690000"
      ]
     },
     "execution_count": 2,
     "metadata": {},
     "output_type": "execute_result"
    }
   ],
   "source": [
    "df.describe()"
   ]
  },
  {
   "cell_type": "code",
   "execution_count": 3,
   "id": "62634cf9",
   "metadata": {},
   "outputs": [
    {
     "data": {
      "text/html": [
       "<div>\n",
       "<style scoped>\n",
       "    .dataframe tbody tr th:only-of-type {\n",
       "        vertical-align: middle;\n",
       "    }\n",
       "\n",
       "    .dataframe tbody tr th {\n",
       "        vertical-align: top;\n",
       "    }\n",
       "\n",
       "    .dataframe thead th {\n",
       "        text-align: right;\n",
       "    }\n",
       "</style>\n",
       "<table border=\"1\" class=\"dataframe\">\n",
       "  <thead>\n",
       "    <tr style=\"text-align: right;\">\n",
       "      <th></th>\n",
       "      <th>Close/Last</th>\n",
       "      <th>Open</th>\n",
       "      <th>High</th>\n",
       "      <th>Low</th>\n",
       "    </tr>\n",
       "  </thead>\n",
       "  <tbody>\n",
       "    <tr>\n",
       "      <th>count</th>\n",
       "      <td>2516.000000</td>\n",
       "      <td>2516.000000</td>\n",
       "      <td>2516.000000</td>\n",
       "      <td>2516.000000</td>\n",
       "    </tr>\n",
       "    <tr>\n",
       "      <th>mean</th>\n",
       "      <td>3309.136971</td>\n",
       "      <td>3308.649555</td>\n",
       "      <td>3326.281049</td>\n",
       "      <td>3289.705731</td>\n",
       "    </tr>\n",
       "    <tr>\n",
       "      <th>std</th>\n",
       "      <td>1053.345467</td>\n",
       "      <td>1053.124555</td>\n",
       "      <td>1058.614795</td>\n",
       "      <td>1047.531572</td>\n",
       "    </tr>\n",
       "    <tr>\n",
       "      <th>min</th>\n",
       "      <td>1829.080000</td>\n",
       "      <td>1833.400000</td>\n",
       "      <td>1847.000000</td>\n",
       "      <td>1810.100000</td>\n",
       "    </tr>\n",
       "    <tr>\n",
       "      <th>25%</th>\n",
       "      <td>2396.680000</td>\n",
       "      <td>2394.557500</td>\n",
       "      <td>2401.265000</td>\n",
       "      <td>2384.292500</td>\n",
       "    </tr>\n",
       "    <tr>\n",
       "      <th>50%</th>\n",
       "      <td>2977.180000</td>\n",
       "      <td>2978.475000</td>\n",
       "      <td>2989.625000</td>\n",
       "      <td>2963.005000</td>\n",
       "    </tr>\n",
       "    <tr>\n",
       "      <th>75%</th>\n",
       "      <td>4174.187500</td>\n",
       "      <td>4173.585000</td>\n",
       "      <td>4195.440000</td>\n",
       "      <td>4147.920000</td>\n",
       "    </tr>\n",
       "    <tr>\n",
       "      <th>max</th>\n",
       "      <td>6001.350000</td>\n",
       "      <td>6008.860000</td>\n",
       "      <td>6017.310000</td>\n",
       "      <td>5986.690000</td>\n",
       "    </tr>\n",
       "  </tbody>\n",
       "</table>\n",
       "</div>"
      ],
      "text/plain": [
       "        Close/Last         Open         High          Low\n",
       "count  2516.000000  2516.000000  2516.000000  2516.000000\n",
       "mean   3309.136971  3308.649555  3326.281049  3289.705731\n",
       "std    1053.345467  1053.124555  1058.614795  1047.531572\n",
       "min    1829.080000  1833.400000  1847.000000  1810.100000\n",
       "25%    2396.680000  2394.557500  2401.265000  2384.292500\n",
       "50%    2977.180000  2978.475000  2989.625000  2963.005000\n",
       "75%    4174.187500  4173.585000  4195.440000  4147.920000\n",
       "max    6001.350000  6008.860000  6017.310000  5986.690000"
      ]
     },
     "execution_count": 3,
     "metadata": {},
     "output_type": "execute_result"
    }
   ],
   "source": [
    "#remove holidays (Open == 0)\n",
    "\n",
    "df = df.loc[~(df['Open']==0)]\n",
    "df.describe()"
   ]
  },
  {
   "cell_type": "code",
   "execution_count": 4,
   "id": "78458cb3",
   "metadata": {},
   "outputs": [
    {
     "name": "stdout",
     "output_type": "stream",
     "text": [
      "<class 'pandas.core.frame.DataFrame'>\n",
      "Int64Index: 2516 entries, 0 to 2526\n",
      "Data columns (total 5 columns):\n",
      " #   Column      Non-Null Count  Dtype  \n",
      "---  ------      --------------  -----  \n",
      " 0   Date        2516 non-null   object \n",
      " 1   Close/Last  2516 non-null   float64\n",
      " 2   Open        2516 non-null   float64\n",
      " 3   High        2516 non-null   float64\n",
      " 4   Low         2516 non-null   float64\n",
      "dtypes: float64(4), object(1)\n",
      "memory usage: 117.9+ KB\n"
     ]
    }
   ],
   "source": [
    "df.info()"
   ]
  },
  {
   "cell_type": "code",
   "execution_count": 5,
   "id": "8b7a5035",
   "metadata": {},
   "outputs": [
    {
     "data": {
      "text/plain": [
       "(2516, 5)"
      ]
     },
     "execution_count": 5,
     "metadata": {},
     "output_type": "execute_result"
    }
   ],
   "source": [
    "df.shape"
   ]
  },
  {
   "cell_type": "code",
   "execution_count": 6,
   "id": "ac8615bf",
   "metadata": {},
   "outputs": [
    {
     "data": {
      "text/plain": [
       "Date          False\n",
       "Close/Last    False\n",
       "Open          False\n",
       "High          False\n",
       "Low           False\n",
       "dtype: bool"
      ]
     },
     "execution_count": 6,
     "metadata": {},
     "output_type": "execute_result"
    }
   ],
   "source": [
    "df.isnull().any()"
   ]
  },
  {
   "cell_type": "code",
   "execution_count": 7,
   "id": "f7005b57",
   "metadata": {},
   "outputs": [
    {
     "data": {
      "text/plain": [
       "<function matplotlib.pyplot.show(close=None, block=None)>"
      ]
     },
     "execution_count": 7,
     "metadata": {},
     "output_type": "execute_result"
    },
    {
     "data": {
      "image/png": "[encoded data removed]",
      "text/plain": [
       "<Figure size 640x480 with 1 Axes>"
      ]
     },
     "metadata": {},
     "output_type": "display_data"
    }
   ],
   "source": [
    "sns.set()\n",
    "\n",
    "plt.hist(df['Close/Last'])\n",
    "plt.show"
   ]
  },
  {
   "cell_type": "code",
   "execution_count": 8,
   "id": "bb0a122c",
   "metadata": {},
   "outputs": [
    {
     "data": {
      "text/plain": [
       "5870.62"
      ]
     },
     "execution_count": 8,
     "metadata": {},
     "output_type": "execute_result"
    }
   ],
   "source": [
    "close_current = df['Close/Last'].iloc[0]\n",
    "close_current"
   ]
  },
  {
   "cell_type": "code",
   "execution_count": 9,
   "id": "e5f819b3",
   "metadata": {},
   "outputs": [
    {
     "data": {
      "text/plain": [
       "3309.136971383151"
      ]
     },
     "execution_count": 9,
     "metadata": {},
     "output_type": "execute_result"
    }
   ],
   "source": [
    "close_mean = df['Close/Last'].mean()\n",
    "close_mean"
   ]
  },
  {
   "cell_type": "code",
   "execution_count": 10,
   "id": "da3f53bd",
   "metadata": {},
   "outputs": [
    {
     "data": {
      "text/plain": [
       "1053.3454673590857"
      ]
     },
     "execution_count": 10,
     "metadata": {},
     "output_type": "execute_result"
    }
   ],
   "source": [
    "close_sd = df['Close/Last'].std()\n",
    "close_sd"
   ]
  },
  {
   "cell_type": "code",
   "execution_count": 11,
   "id": "d17e2d7b",
   "metadata": {},
   "outputs": [
    {
     "data": {
      "text/plain": [
       "4362.482438742237"
      ]
     },
     "execution_count": 11,
     "metadata": {},
     "output_type": "execute_result"
    }
   ],
   "source": [
    "sigma1 = close_mean + close_sd\n",
    "sigma1"
   ]
  },
  {
   "cell_type": "code",
   "execution_count": 12,
   "id": "38e6474d",
   "metadata": {},
   "outputs": [
    {
     "data": {
      "text/plain": [
       "5415.827906101322"
      ]
     },
     "execution_count": 12,
     "metadata": {},
     "output_type": "execute_result"
    }
   ],
   "source": [
    "sigma2 = close_mean + (2 * close_sd)  #bubble (from trend) according to Grantham\n",
    "sigma2"
   ]
  },
  {
   "cell_type": "code",
   "execution_count": 13,
   "id": "d1791a15",
   "metadata": {},
   "outputs": [
    {
     "data": {
      "text/plain": [
       "5942.500639780865"
      ]
     },
     "execution_count": 13,
     "metadata": {},
     "output_type": "execute_result"
    }
   ],
   "source": [
    "sigma2_5 = close_mean + (2.5 * close_sd)  #super bubble (from trend) according to Grantham\n",
    "sigma2_5"
   ]
  },
  {
   "cell_type": "code",
   "execution_count": 14,
   "id": "51c65dd4",
   "metadata": {},
   "outputs": [
    {
     "name": "stdout",
     "output_type": "stream",
     "text": [
      "<class 'pandas.core.frame.DataFrame'>\n",
      "Int64Index: 2516 entries, 0 to 2526\n",
      "Data columns (total 2 columns):\n",
      " #   Column      Non-Null Count  Dtype         \n",
      "---  ------      --------------  -----         \n",
      " 0   Date        2516 non-null   datetime64[ns]\n",
      " 1   Close/Last  2516 non-null   float64       \n",
      "dtypes: datetime64[ns](1), float64(1)\n",
      "memory usage: 59.0 KB\n"
     ]
    }
   ],
   "source": [
    "cols = ['Date','Close/Last']\n",
    "df1 = df.loc[:,cols]\n",
    "df1['Date'] = pd.to_datetime(df1['Date'], format = \"%m/%d/%Y\" )\n",
    "df1.info()"
   ]
  },
  {
   "cell_type": "code",
   "execution_count": 15,
   "id": "68c3ba0d",
   "metadata": {},
   "outputs": [],
   "source": [
    "#Date Range\n",
    "date_start = min(df1['Date']).date()\n",
    "date_end = max(df1['Date']).date()"
   ]
  },
  {
   "cell_type": "code",
   "execution_count": 16,
   "id": "3eb98279",
   "metadata": {},
   "outputs": [
    {
     "data": {
      "text/plain": [
       "Text(0.5, 1.0, 'S&P 500 Daily Close/Last - 2014-11-18 to 2024-11-15')"
      ]
     },
     "execution_count": 16,
     "metadata": {},
     "output_type": "execute_result"
    },
    {
     "data": {
      "image/png": "[encoded data removed]",
      "text/plain": [
       "<Figure size 640x480 with 1 Axes>"
      ]
     },
     "metadata": {},
     "output_type": "display_data"
    }
   ],
   "source": [
    "#Daily S&P 500 Close/Last, vs mean and standard deviations\n",
    "\n",
    "if close_current > sigma2:\n",
    "    c = 'red'\n",
    "elif close_current > sigma1:\n",
    "    c = 'orange'\n",
    "else: \n",
    "    c = 'green'\n",
    "\n",
    "df1.plot(x='Date', y='Close/Last', color = c)\n",
    "plt.axhline(close_mean, color='black', label='Mean')\n",
    "plt.axhline(sigma1, color='black', linestyle='--', label='+1 standard deviation')\n",
    "plt.axhline(sigma2, color='black', linestyle=':', label='+2 standard deviations')\n",
    "plt.legend()\n",
    "plt.title(f'S&P 500 Daily Close/Last - {date_start} to {date_end}')"
   ]
  },
  {
   "cell_type": "code",
   "execution_count": 17,
   "id": "9d3de969",
   "metadata": {
    "scrolled": true
   },
   "outputs": [
    {
     "data": {
      "text/plain": [
       "Text(0.5, 1.0, 'Density: S&P 500 Daily Close/Last - 2014-11-18 to 2024-11-15')"
      ]
     },
     "execution_count": 17,
     "metadata": {},
     "output_type": "execute_result"
    },
    {
     "data": {
      "image/png": "[encoded data removed]",
      "text/plain": [
       "<Figure size 500x500 with 1 Axes>"
      ]
     },
     "metadata": {},
     "output_type": "display_data"
    }
   ],
   "source": [
    "# Using Kernal Density Estimation (kde) to approximate probability density function\n",
    "# https://seaborn.pydata.org/tutorial/distributions.html #kernel-density-estimation\n",
    "#bw_adjust: adjust bandwidth to smoothe out modalities\n",
    "\n",
    "sns.displot(df1['Close/Last'], kind='kde', bw_adjust=3.0) \n",
    "\n",
    "plt.axvline(close_current, color=c, label='Close/Last')\n",
    "plt.axvline(close_mean, color='black', label='Mean')\n",
    "plt.axvline(sigma1, color='black', linestyle='--', label='+1 standard deviations')\n",
    "plt.axvline(sigma2, color='black', linestyle=':', label='+2 standard deviations')\n",
    "plt.legend(loc='upper left')\n",
    "plt.title(f'Density: S&P 500 Daily Close/Last - {date_start} to {date_end}')"
   ]
  },
  {
   "cell_type": "code",
   "execution_count": 18,
   "id": "7a9eb4a6",
   "metadata": {},
   "outputs": [
    {
     "data": {
      "text/plain": [
       "2.431759672388317"
      ]
     },
     "execution_count": 18,
     "metadata": {},
     "output_type": "execute_result"
    }
   ],
   "source": [
    "z_score = (close_current - close_mean)/close_sd\n",
    "z_score"
   ]
  },
  {
   "cell_type": "code",
   "execution_count": 19,
   "id": "108ec4ba",
   "metadata": {},
   "outputs": [],
   "source": [
    "# https://realpython.com/linear-regression-in-python/\n",
    "#Step 4: Get results"
   ]
  }
 ],
 "metadata": {
  "kernelspec": {
   "display_name": "Python 3 (ipykernel)",
   "language": "python",
   "name": "python3"
  },
  "language_info": {
   "codemirror_mode": {
    "name": "ipython",
    "version": 3
   },
   "file_extension": ".py",
   "mimetype": "text/x-python",
   "name": "python",
   "nbconvert_exporter": "python",
   "pygments_lexer": "ipython3",
   "version": "3.9.15"
  }
 },
 "nbformat": 4,
 "nbformat_minor": 5
}

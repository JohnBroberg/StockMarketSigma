{
 "cells": [
  {
   "cell_type": "code",
   "execution_count": 1,
   "id": "020e6d3d",
   "metadata": {},
   "outputs": [
    {
     "data": {
      "text/html": [
       "<div>\n",
       "<style scoped>\n",
       "    .dataframe tbody tr th:only-of-type {\n",
       "        vertical-align: middle;\n",
       "    }\n",
       "\n",
       "    .dataframe tbody tr th {\n",
       "        vertical-align: top;\n",
       "    }\n",
       "\n",
       "    .dataframe thead th {\n",
       "        text-align: right;\n",
       "    }\n",
       "</style>\n",
       "<table border=\"1\" class=\"dataframe\">\n",
       "  <thead>\n",
       "    <tr style=\"text-align: right;\">\n",
       "      <th></th>\n",
       "      <th>Date</th>\n",
       "      <th>Close/Last</th>\n",
       "      <th>Volume</th>\n",
       "      <th>Open</th>\n",
       "      <th>High</th>\n",
       "      <th>Low</th>\n",
       "    </tr>\n",
       "  </thead>\n",
       "  <tbody>\n",
       "    <tr>\n",
       "      <th>0</th>\n",
       "      <td>06/17/2022</td>\n",
       "      <td>3674.84</td>\n",
       "      <td>--</td>\n",
       "      <td>3665.90</td>\n",
       "      <td>3707.71</td>\n",
       "      <td>3636.87</td>\n",
       "    </tr>\n",
       "    <tr>\n",
       "      <th>1</th>\n",
       "      <td>06/16/2022</td>\n",
       "      <td>3666.77</td>\n",
       "      <td>--</td>\n",
       "      <td>3728.18</td>\n",
       "      <td>3728.18</td>\n",
       "      <td>3639.77</td>\n",
       "    </tr>\n",
       "    <tr>\n",
       "      <th>2</th>\n",
       "      <td>06/15/2022</td>\n",
       "      <td>3789.99</td>\n",
       "      <td>--</td>\n",
       "      <td>3764.05</td>\n",
       "      <td>3837.56</td>\n",
       "      <td>3722.30</td>\n",
       "    </tr>\n",
       "    <tr>\n",
       "      <th>3</th>\n",
       "      <td>06/14/2022</td>\n",
       "      <td>3735.48</td>\n",
       "      <td>--</td>\n",
       "      <td>3763.52</td>\n",
       "      <td>3778.18</td>\n",
       "      <td>3705.68</td>\n",
       "    </tr>\n",
       "    <tr>\n",
       "      <th>4</th>\n",
       "      <td>06/13/2022</td>\n",
       "      <td>3749.63</td>\n",
       "      <td>--</td>\n",
       "      <td>3838.15</td>\n",
       "      <td>3838.15</td>\n",
       "      <td>3734.30</td>\n",
       "    </tr>\n",
       "    <tr>\n",
       "      <th>...</th>\n",
       "      <td>...</td>\n",
       "      <td>...</td>\n",
       "      <td>...</td>\n",
       "      <td>...</td>\n",
       "      <td>...</td>\n",
       "      <td>...</td>\n",
       "    </tr>\n",
       "    <tr>\n",
       "      <th>2546</th>\n",
       "      <td>06/22/2012</td>\n",
       "      <td>1335.02</td>\n",
       "      <td>--</td>\n",
       "      <td>1325.92</td>\n",
       "      <td>1337.82</td>\n",
       "      <td>1325.92</td>\n",
       "    </tr>\n",
       "    <tr>\n",
       "      <th>2547</th>\n",
       "      <td>06/21/2012</td>\n",
       "      <td>1325.51</td>\n",
       "      <td>--</td>\n",
       "      <td>1355.43</td>\n",
       "      <td>1358.27</td>\n",
       "      <td>1324.41</td>\n",
       "    </tr>\n",
       "    <tr>\n",
       "      <th>2548</th>\n",
       "      <td>06/20/2012</td>\n",
       "      <td>1355.69</td>\n",
       "      <td>--</td>\n",
       "      <td>1358.04</td>\n",
       "      <td>1361.57</td>\n",
       "      <td>1346.45</td>\n",
       "    </tr>\n",
       "    <tr>\n",
       "      <th>2549</th>\n",
       "      <td>06/19/2012</td>\n",
       "      <td>1357.98</td>\n",
       "      <td>--</td>\n",
       "      <td>1344.83</td>\n",
       "      <td>1363.46</td>\n",
       "      <td>1344.83</td>\n",
       "    </tr>\n",
       "    <tr>\n",
       "      <th>2550</th>\n",
       "      <td>06/18/2012</td>\n",
       "      <td>1344.78</td>\n",
       "      <td>--</td>\n",
       "      <td>1342.42</td>\n",
       "      <td>1348.22</td>\n",
       "      <td>1334.46</td>\n",
       "    </tr>\n",
       "  </tbody>\n",
       "</table>\n",
       "<p>2551 rows × 6 columns</p>\n",
       "</div>"
      ],
      "text/plain": [
       "            Date  Close/Last Volume     Open     High      Low\n",
       "0     06/17/2022     3674.84     --  3665.90  3707.71  3636.87\n",
       "1     06/16/2022     3666.77     --  3728.18  3728.18  3639.77\n",
       "2     06/15/2022     3789.99     --  3764.05  3837.56  3722.30\n",
       "3     06/14/2022     3735.48     --  3763.52  3778.18  3705.68\n",
       "4     06/13/2022     3749.63     --  3838.15  3838.15  3734.30\n",
       "...          ...         ...    ...      ...      ...      ...\n",
       "2546  06/22/2012     1335.02     --  1325.92  1337.82  1325.92\n",
       "2547  06/21/2012     1325.51     --  1355.43  1358.27  1324.41\n",
       "2548  06/20/2012     1355.69     --  1358.04  1361.57  1346.45\n",
       "2549  06/19/2012     1357.98     --  1344.83  1363.46  1344.83\n",
       "2550  06/18/2012     1344.78     --  1342.42  1348.22  1334.46\n",
       "\n",
       "[2551 rows x 6 columns]"
      ]
     },
     "execution_count": 1,
     "metadata": {},
     "output_type": "execute_result"
    }
   ],
   "source": [
    "#Stock Market (S&P 500) Sigma (standard deviation) Analysis\n",
    "#created by John Broberg on 2022-05-29\n",
    "#inspired by \"LET THE WILD RUMPUS BEGIN\" by JEREMY GRANTHAM of GMO\n",
    "#ref. https://www.gmo.com/globalassets/articles/viewpoints/2022/gmo_let-the-wild-rumpus-begin_1-22.pdf\n",
    "\n",
    "#source data: https://www.nasdaq.com/market-activity/index/spx/historical\n",
    "\n",
    "#cd\n",
    "#cd Desktop/StockMarketSigma\n",
    "#git pull https://github.com/JohnBroberg/StockMarketSigma.git\n",
    "\n",
    "\n",
    "import pandas as pd\n",
    "import numpy as np\n",
    "import matplotlib.pyplot as plt\n",
    "import seaborn as sns\n",
    "\n",
    "data = 'HistoricalData_1655565273630.csv'\n",
    "df = pd.read_csv(data)\n",
    "\n",
    "df\n"
   ]
  },
  {
   "cell_type": "code",
   "execution_count": 2,
   "id": "3cb9ac74",
   "metadata": {},
   "outputs": [
    {
     "data": {
      "text/html": [
       "<div>\n",
       "<style scoped>\n",
       "    .dataframe tbody tr th:only-of-type {\n",
       "        vertical-align: middle;\n",
       "    }\n",
       "\n",
       "    .dataframe tbody tr th {\n",
       "        vertical-align: top;\n",
       "    }\n",
       "\n",
       "    .dataframe thead th {\n",
       "        text-align: right;\n",
       "    }\n",
       "</style>\n",
       "<table border=\"1\" class=\"dataframe\">\n",
       "  <thead>\n",
       "    <tr style=\"text-align: right;\">\n",
       "      <th></th>\n",
       "      <th>Close/Last</th>\n",
       "      <th>Open</th>\n",
       "      <th>High</th>\n",
       "      <th>Low</th>\n",
       "    </tr>\n",
       "  </thead>\n",
       "  <tbody>\n",
       "    <tr>\n",
       "      <th>count</th>\n",
       "      <td>2551.000000</td>\n",
       "      <td>2551.000000</td>\n",
       "      <td>2551.000000</td>\n",
       "      <td>2551.000000</td>\n",
       "    </tr>\n",
       "    <tr>\n",
       "      <th>mean</th>\n",
       "      <td>2597.652050</td>\n",
       "      <td>2574.259463</td>\n",
       "      <td>2587.444681</td>\n",
       "      <td>2559.742266</td>\n",
       "    </tr>\n",
       "    <tr>\n",
       "      <th>std</th>\n",
       "      <td>874.559104</td>\n",
       "      <td>918.058161</td>\n",
       "      <td>923.807861</td>\n",
       "      <td>911.305176</td>\n",
       "    </tr>\n",
       "    <tr>\n",
       "      <th>min</th>\n",
       "      <td>1313.720000</td>\n",
       "      <td>0.000000</td>\n",
       "      <td>0.000000</td>\n",
       "      <td>0.000000</td>\n",
       "    </tr>\n",
       "    <tr>\n",
       "      <th>25%</th>\n",
       "      <td>1974.125000</td>\n",
       "      <td>1966.445000</td>\n",
       "      <td>1978.465000</td>\n",
       "      <td>1958.395000</td>\n",
       "    </tr>\n",
       "    <tr>\n",
       "      <th>50%</th>\n",
       "      <td>2399.380000</td>\n",
       "      <td>2399.940000</td>\n",
       "      <td>2405.770000</td>\n",
       "      <td>2387.190000</td>\n",
       "    </tr>\n",
       "    <tr>\n",
       "      <th>75%</th>\n",
       "      <td>2991.090000</td>\n",
       "      <td>2989.490000</td>\n",
       "      <td>3002.655000</td>\n",
       "      <td>2975.585000</td>\n",
       "    </tr>\n",
       "    <tr>\n",
       "      <th>max</th>\n",
       "      <td>4796.560000</td>\n",
       "      <td>4804.510000</td>\n",
       "      <td>4818.620000</td>\n",
       "      <td>4780.040000</td>\n",
       "    </tr>\n",
       "  </tbody>\n",
       "</table>\n",
       "</div>"
      ],
      "text/plain": [
       "        Close/Last         Open         High          Low\n",
       "count  2551.000000  2551.000000  2551.000000  2551.000000\n",
       "mean   2597.652050  2574.259463  2587.444681  2559.742266\n",
       "std     874.559104   918.058161   923.807861   911.305176\n",
       "min    1313.720000     0.000000     0.000000     0.000000\n",
       "25%    1974.125000  1966.445000  1978.465000  1958.395000\n",
       "50%    2399.380000  2399.940000  2405.770000  2387.190000\n",
       "75%    2991.090000  2989.490000  3002.655000  2975.585000\n",
       "max    4796.560000  4804.510000  4818.620000  4780.040000"
      ]
     },
     "execution_count": 2,
     "metadata": {},
     "output_type": "execute_result"
    }
   ],
   "source": [
    "df.describe()"
   ]
  },
  {
   "cell_type": "code",
   "execution_count": 3,
   "id": "62634cf9",
   "metadata": {},
   "outputs": [
    {
     "data": {
      "text/html": [
       "<div>\n",
       "<style scoped>\n",
       "    .dataframe tbody tr th:only-of-type {\n",
       "        vertical-align: middle;\n",
       "    }\n",
       "\n",
       "    .dataframe tbody tr th {\n",
       "        vertical-align: top;\n",
       "    }\n",
       "\n",
       "    .dataframe thead th {\n",
       "        text-align: right;\n",
       "    }\n",
       "</style>\n",
       "<table border=\"1\" class=\"dataframe\">\n",
       "  <thead>\n",
       "    <tr style=\"text-align: right;\">\n",
       "      <th></th>\n",
       "      <th>Close/Last</th>\n",
       "      <th>Open</th>\n",
       "      <th>High</th>\n",
       "      <th>Low</th>\n",
       "    </tr>\n",
       "  </thead>\n",
       "  <tbody>\n",
       "    <tr>\n",
       "      <th>count</th>\n",
       "      <td>2518.000000</td>\n",
       "      <td>2518.000000</td>\n",
       "      <td>2518.000000</td>\n",
       "      <td>2518.000000</td>\n",
       "    </tr>\n",
       "    <tr>\n",
       "      <th>mean</th>\n",
       "      <td>2608.299345</td>\n",
       "      <td>2607.996779</td>\n",
       "      <td>2621.354797</td>\n",
       "      <td>2593.289325</td>\n",
       "    </tr>\n",
       "    <tr>\n",
       "      <th>std</th>\n",
       "      <td>874.765314</td>\n",
       "      <td>875.133842</td>\n",
       "      <td>880.729397</td>\n",
       "      <td>868.523798</td>\n",
       "    </tr>\n",
       "    <tr>\n",
       "      <th>min</th>\n",
       "      <td>1313.720000</td>\n",
       "      <td>1314.090000</td>\n",
       "      <td>1324.240000</td>\n",
       "      <td>1309.270000</td>\n",
       "    </tr>\n",
       "    <tr>\n",
       "      <th>25%</th>\n",
       "      <td>1981.775000</td>\n",
       "      <td>1980.137500</td>\n",
       "      <td>1988.585000</td>\n",
       "      <td>1972.132500</td>\n",
       "    </tr>\n",
       "    <tr>\n",
       "      <th>50%</th>\n",
       "      <td>2425.540000</td>\n",
       "      <td>2426.615000</td>\n",
       "      <td>2435.090000</td>\n",
       "      <td>2410.815000</td>\n",
       "    </tr>\n",
       "    <tr>\n",
       "      <th>75%</th>\n",
       "      <td>2997.460000</td>\n",
       "      <td>2998.287500</td>\n",
       "      <td>3007.705000</td>\n",
       "      <td>2983.745000</td>\n",
       "    </tr>\n",
       "    <tr>\n",
       "      <th>max</th>\n",
       "      <td>4796.560000</td>\n",
       "      <td>4804.510000</td>\n",
       "      <td>4818.620000</td>\n",
       "      <td>4780.040000</td>\n",
       "    </tr>\n",
       "  </tbody>\n",
       "</table>\n",
       "</div>"
      ],
      "text/plain": [
       "        Close/Last         Open         High          Low\n",
       "count  2518.000000  2518.000000  2518.000000  2518.000000\n",
       "mean   2608.299345  2607.996779  2621.354797  2593.289325\n",
       "std     874.765314   875.133842   880.729397   868.523798\n",
       "min    1313.720000  1314.090000  1324.240000  1309.270000\n",
       "25%    1981.775000  1980.137500  1988.585000  1972.132500\n",
       "50%    2425.540000  2426.615000  2435.090000  2410.815000\n",
       "75%    2997.460000  2998.287500  3007.705000  2983.745000\n",
       "max    4796.560000  4804.510000  4818.620000  4780.040000"
      ]
     },
     "execution_count": 3,
     "metadata": {},
     "output_type": "execute_result"
    }
   ],
   "source": [
    "#remove holidays (Open == 0)\n",
    "\n",
    "df = df.loc[~(df['Open']==0)]\n",
    "df.describe()"
   ]
  },
  {
   "cell_type": "code",
   "execution_count": 4,
   "id": "78458cb3",
   "metadata": {},
   "outputs": [
    {
     "name": "stdout",
     "output_type": "stream",
     "text": [
      "<class 'pandas.core.frame.DataFrame'>\n",
      "Int64Index: 2518 entries, 0 to 2550\n",
      "Data columns (total 6 columns):\n",
      " #   Column      Non-Null Count  Dtype  \n",
      "---  ------      --------------  -----  \n",
      " 0   Date        2518 non-null   object \n",
      " 1   Close/Last  2518 non-null   float64\n",
      " 2   Volume      2518 non-null   object \n",
      " 3   Open        2518 non-null   float64\n",
      " 4   High        2518 non-null   float64\n",
      " 5   Low         2518 non-null   float64\n",
      "dtypes: float64(4), object(2)\n",
      "memory usage: 137.7+ KB\n"
     ]
    }
   ],
   "source": [
    "df.info()"
   ]
  },
  {
   "cell_type": "code",
   "execution_count": 5,
   "id": "8b7a5035",
   "metadata": {},
   "outputs": [
    {
     "data": {
      "text/plain": [
       "(2518, 6)"
      ]
     },
     "execution_count": 5,
     "metadata": {},
     "output_type": "execute_result"
    }
   ],
   "source": [
    "df.shape"
   ]
  },
  {
   "cell_type": "code",
   "execution_count": 6,
   "id": "ac8615bf",
   "metadata": {},
   "outputs": [
    {
     "data": {
      "text/plain": [
       "Date          False\n",
       "Close/Last    False\n",
       "Volume        False\n",
       "Open          False\n",
       "High          False\n",
       "Low           False\n",
       "dtype: bool"
      ]
     },
     "execution_count": 6,
     "metadata": {},
     "output_type": "execute_result"
    }
   ],
   "source": [
    "df.isnull().any()"
   ]
  },
  {
   "cell_type": "code",
   "execution_count": 7,
   "id": "f7005b57",
   "metadata": {},
   "outputs": [
    {
     "data": {
      "text/plain": [
       "<function matplotlib.pyplot.show(close=None, block=None)>"
      ]
     },
     "execution_count": 7,
     "metadata": {},
     "output_type": "execute_result"
    },
    {
     "data": {
      "image/png": "[encoded data removed]",
      "text/plain": [
       "<Figure size 432x288 with 1 Axes>"
      ]
     },
     "metadata": {},
     "output_type": "display_data"
    }
   ],
   "source": [
    "sns.set()\n",
    "\n",
    "plt.hist(df['Close/Last'])\n",
    "plt.show"
   ]
  },
  {
   "cell_type": "code",
   "execution_count": 8,
   "id": "bb0a122c",
   "metadata": {},
   "outputs": [
    {
     "data": {
      "text/plain": [
       "3674.84"
      ]
     },
     "execution_count": 8,
     "metadata": {},
     "output_type": "execute_result"
    }
   ],
   "source": [
    "close_current = df['Close/Last'].iloc[0]\n",
    "close_current"
   ]
  },
  {
   "cell_type": "code",
   "execution_count": 9,
   "id": "e5f819b3",
   "metadata": {},
   "outputs": [
    {
     "data": {
      "text/plain": [
       "2608.2993447180393"
      ]
     },
     "execution_count": 9,
     "metadata": {},
     "output_type": "execute_result"
    }
   ],
   "source": [
    "close_mean = df['Close/Last'].mean()\n",
    "close_mean"
   ]
  },
  {
   "cell_type": "code",
   "execution_count": 10,
   "id": "da3f53bd",
   "metadata": {},
   "outputs": [
    {
     "data": {
      "text/plain": [
       "874.7653141962957"
      ]
     },
     "execution_count": 10,
     "metadata": {},
     "output_type": "execute_result"
    }
   ],
   "source": [
    "close_sd = df['Close/Last'].std()\n",
    "close_sd"
   ]
  },
  {
   "cell_type": "code",
   "execution_count": 11,
   "id": "d17e2d7b",
   "metadata": {},
   "outputs": [
    {
     "data": {
      "text/plain": [
       "3483.064658914335"
      ]
     },
     "execution_count": 11,
     "metadata": {},
     "output_type": "execute_result"
    }
   ],
   "source": [
    "sigma1 = close_mean + close_sd\n",
    "sigma1"
   ]
  },
  {
   "cell_type": "code",
   "execution_count": 12,
   "id": "38e6474d",
   "metadata": {},
   "outputs": [
    {
     "data": {
      "text/plain": [
       "4357.829973110631"
      ]
     },
     "execution_count": 12,
     "metadata": {},
     "output_type": "execute_result"
    }
   ],
   "source": [
    "sigma2 = close_mean + (2 * close_sd)\n",
    "sigma2"
   ]
  },
  {
   "cell_type": "code",
   "execution_count": 13,
   "id": "d1791a15",
   "metadata": {},
   "outputs": [
    {
     "data": {
      "text/plain": [
       "5232.595287306926"
      ]
     },
     "execution_count": 13,
     "metadata": {},
     "output_type": "execute_result"
    }
   ],
   "source": [
    "sigma3 = close_mean + (3 * close_sd)\n",
    "sigma3"
   ]
  },
  {
   "cell_type": "code",
   "execution_count": 14,
   "id": "51c65dd4",
   "metadata": {},
   "outputs": [
    {
     "name": "stdout",
     "output_type": "stream",
     "text": [
      "<class 'pandas.core.frame.DataFrame'>\n",
      "Int64Index: 2518 entries, 0 to 2550\n",
      "Data columns (total 2 columns):\n",
      " #   Column      Non-Null Count  Dtype         \n",
      "---  ------      --------------  -----         \n",
      " 0   Date        2518 non-null   datetime64[ns]\n",
      " 1   Close/Last  2518 non-null   float64       \n",
      "dtypes: datetime64[ns](1), float64(1)\n",
      "memory usage: 59.0 KB\n"
     ]
    }
   ],
   "source": [
    "cols = ['Date','Close/Last']\n",
    "df1 = df.loc[:,cols]\n",
    "df1['Date'] = pd.to_datetime(df1['Date'], format = \"%m/%d/%Y\" )\n",
    "df1.info()"
   ]
  },
  {
   "cell_type": "code",
   "execution_count": 15,
   "id": "68c3ba0d",
   "metadata": {},
   "outputs": [],
   "source": [
    "#Date Range\n",
    "date_start = min(df1['Date']).date()\n",
    "date_end = max(df1['Date']).date()"
   ]
  },
  {
   "cell_type": "code",
   "execution_count": 16,
   "id": "3eb98279",
   "metadata": {},
   "outputs": [
    {
     "data": {
      "text/plain": [
       "Text(0.5, 1.0, 'S&P 500 Daily Close/Last - 2012-06-18 to 2022-06-17')"
      ]
     },
     "execution_count": 16,
     "metadata": {},
     "output_type": "execute_result"
    },
    {
     "data": {
      "image/png": "[encoded data removed]",
      "text/plain": [
       "<Figure size 432x288 with 1 Axes>"
      ]
     },
     "metadata": {},
     "output_type": "display_data"
    }
   ],
   "source": [
    "#Daily S&P 500 Close/Last, vs mean and standard deviations\n",
    "\n",
    "if close_current > sigma2:\n",
    "    c = 'red'\n",
    "elif close_current > sigma1:\n",
    "    c = 'orange'\n",
    "else: \n",
    "    c = 'green'\n",
    "\n",
    "df1.plot(x='Date', y='Close/Last', color = c)\n",
    "plt.axhline(close_mean, color='black', label='Mean')\n",
    "plt.axhline(sigma1, color='black', linestyle='--', label='+1 standard deviation')\n",
    "plt.axhline(sigma2, color='black', linestyle=':', label='+2 standard deviations')\n",
    "plt.legend()\n",
    "plt.title(f'S&P 500 Daily Close/Last - {date_start} to {date_end}')"
   ]
  },
  {
   "cell_type": "code",
   "execution_count": 17,
   "id": "9d3de969",
   "metadata": {},
   "outputs": [
    {
     "data": {
      "text/plain": [
       "Text(0.5, 1.0, 'Density: S&P 500 Daily Close/Last - 2012-06-18 to 2022-06-17')"
      ]
     },
     "execution_count": 17,
     "metadata": {},
     "output_type": "execute_result"
    },
    {
     "data": {
      "image/png": "[encoded data removed]",
      "text/plain": [
       "<Figure size 360x360 with 1 Axes>"
      ]
     },
     "metadata": {},
     "output_type": "display_data"
    }
   ],
   "source": [
    "# Using Kernal Density Estimation (kde) to approximate probability density function\n",
    "# https://seaborn.pydata.org/tutorial/distributions.html#kernel-density-estimation\n",
    "#bw_adjust: adjust bandwidth to smoothe out modalities\n",
    "\n",
    "sns.displot(df1['Close/Last'], kind='kde', bw_adjust=3.0) \n",
    "\n",
    "plt.axvline(close_mean, color='black', label='Mean')\n",
    "plt.axvline(sigma1, color='black', linestyle='--', label='+1 standard deviation')\n",
    "plt.axvline(sigma2, color='black', linestyle=':', label='+2 standard deviations')\n",
    "plt.axvline(close_current, color=c, label='Latest Close/Last')\n",
    "plt.legend(loc='upper left')\n",
    "plt.title(f'Density: S&P 500 Daily Close/Last - {date_start} to {date_end}')"
   ]
  },
  {
   "cell_type": "code",
   "execution_count": 18,
   "id": "7a9eb4a6",
   "metadata": {},
   "outputs": [
    {
     "data": {
      "text/plain": [
       "1.2192306187424244"
      ]
     },
     "execution_count": 18,
     "metadata": {},
     "output_type": "execute_result"
    }
   ],
   "source": [
    "z_score = (close_current - close_mean)/close_sd\n",
    "z_score"
   ]
  }
 ],
 "metadata": {
  "kernelspec": {
   "display_name": "Python 3 (ipykernel)",
   "language": "python",
   "name": "python3"
  },
  "language_info": {
   "codemirror_mode": {
    "name": "ipython",
    "version": 3
   },
   "file_extension": ".py",
   "mimetype": "text/x-python",
   "name": "python",
   "nbconvert_exporter": "python",
   "pygments_lexer": "ipython3",
   "version": "3.9.7"
  }
 },
 "nbformat": 4,
 "nbformat_minor": 5
}

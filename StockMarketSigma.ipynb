{
 "cells": [
  {
   "cell_type": "code",
   "execution_count": 1,
   "id": "020e6d3d",
   "metadata": {},
   "outputs": [
    {
     "data": {
      "text/html": [
       "<div>\n",
       "<style scoped>\n",
       "    .dataframe tbody tr th:only-of-type {\n",
       "        vertical-align: middle;\n",
       "    }\n",
       "\n",
       "    .dataframe tbody tr th {\n",
       "        vertical-align: top;\n",
       "    }\n",
       "\n",
       "    .dataframe thead th {\n",
       "        text-align: right;\n",
       "    }\n",
       "</style>\n",
       "<table border=\"1\" class=\"dataframe\">\n",
       "  <thead>\n",
       "    <tr style=\"text-align: right;\">\n",
       "      <th></th>\n",
       "      <th>Date</th>\n",
       "      <th>Close/Last</th>\n",
       "      <th>Volume</th>\n",
       "      <th>Open</th>\n",
       "      <th>High</th>\n",
       "      <th>Low</th>\n",
       "    </tr>\n",
       "  </thead>\n",
       "  <tbody>\n",
       "    <tr>\n",
       "      <th>0</th>\n",
<<<<<<< HEAD
       "      <td>10/07/2022</td>\n",
       "      <td>3639.66</td>\n",
=======
       "      <td>10/05/2022</td>\n",
       "      <td>3783.28</td>\n",
       "      <td>--</td>\n",
       "      <td>3753.25</td>\n",
       "      <td>3806.91</td>\n",
       "      <td>3722.66</td>\n",
       "    </tr>\n",
       "    <tr>\n",
       "      <th>1</th>\n",
       "      <td>10/04/2022</td>\n",
       "      <td>3790.93</td>\n",
       "      <td>--</td>\n",
       "      <td>3726.46</td>\n",
       "      <td>3791.92</td>\n",
       "      <td>3726.46</td>\n",
       "    </tr>\n",
       "    <tr>\n",
       "      <th>2</th>\n",
       "      <td>10/03/2022</td>\n",
       "      <td>3678.43</td>\n",
       "      <td>--</td>\n",
       "      <td>3609.78</td>\n",
       "      <td>3698.35</td>\n",
       "      <td>3604.93</td>\n",
       "    </tr>\n",
       "    <tr>\n",
       "      <th>3</th>\n",
       "      <td>09/30/2022</td>\n",
       "      <td>3585.62</td>\n",
>>>>>>> f5951ecb3a78f5d0063c766b22041ff888f2b11e
       "      <td>--</td>\n",
       "      <td>3706.74</td>\n",
       "      <td>3706.74</td>\n",
       "      <td>3620.73</td>\n",
       "    </tr>\n",
       "    <tr>\n",
<<<<<<< HEAD
       "      <th>1</th>\n",
       "      <td>10/06/2022</td>\n",
       "      <td>3744.52</td>\n",
=======
       "      <th>4</th>\n",
       "      <td>09/29/2022</td>\n",
       "      <td>3640.47</td>\n",
>>>>>>> f5951ecb3a78f5d0063c766b22041ff888f2b11e
       "      <td>--</td>\n",
       "      <td>3771.97</td>\n",
       "      <td>3797.93</td>\n",
       "      <td>3739.22</td>\n",
       "    </tr>\n",
       "    <tr>\n",
<<<<<<< HEAD
       "      <th>2</th>\n",
       "      <td>10/05/2022</td>\n",
       "      <td>3783.28</td>\n",
       "      <td>--</td>\n",
       "      <td>3753.25</td>\n",
       "      <td>3806.91</td>\n",
       "      <td>3722.66</td>\n",
       "    </tr>\n",
       "    <tr>\n",
       "      <th>3</th>\n",
       "      <td>10/04/2022</td>\n",
       "      <td>3790.93</td>\n",
       "      <td>--</td>\n",
       "      <td>3726.46</td>\n",
       "      <td>3791.92</td>\n",
       "      <td>3726.46</td>\n",
       "    </tr>\n",
       "    <tr>\n",
       "      <th>4</th>\n",
       "      <td>10/03/2022</td>\n",
       "      <td>3678.43</td>\n",
       "      <td>--</td>\n",
       "      <td>3609.78</td>\n",
       "      <td>3698.35</td>\n",
       "      <td>3604.93</td>\n",
       "    </tr>\n",
       "    <tr>\n",
=======
>>>>>>> f5951ecb3a78f5d0063c766b22041ff888f2b11e
       "      <th>...</th>\n",
       "      <td>...</td>\n",
       "      <td>...</td>\n",
       "      <td>...</td>\n",
       "      <td>...</td>\n",
       "      <td>...</td>\n",
       "      <td>...</td>\n",
       "    </tr>\n",
       "    <tr>\n",
       "      <th>2541</th>\n",
<<<<<<< HEAD
       "      <td>10/16/2012</td>\n",
       "      <td>1454.92</td>\n",
=======
       "      <td>10/12/2012</td>\n",
       "      <td>1428.59</td>\n",
       "      <td>--</td>\n",
       "      <td>1432.84</td>\n",
       "      <td>1438.43</td>\n",
       "      <td>1425.53</td>\n",
       "    </tr>\n",
       "    <tr>\n",
       "      <th>2542</th>\n",
       "      <td>10/11/2012</td>\n",
       "      <td>1432.84</td>\n",
       "      <td>--</td>\n",
       "      <td>1432.82</td>\n",
       "      <td>1443.90</td>\n",
       "      <td>1432.82</td>\n",
       "    </tr>\n",
       "    <tr>\n",
       "      <th>2543</th>\n",
       "      <td>10/10/2012</td>\n",
       "      <td>1432.56</td>\n",
       "      <td>--</td>\n",
       "      <td>1441.48</td>\n",
       "      <td>1442.52</td>\n",
       "      <td>1430.64</td>\n",
       "    </tr>\n",
       "    <tr>\n",
       "      <th>2544</th>\n",
       "      <td>10/09/2012</td>\n",
       "      <td>1441.48</td>\n",
>>>>>>> f5951ecb3a78f5d0063c766b22041ff888f2b11e
       "      <td>--</td>\n",
       "      <td>1440.31</td>\n",
       "      <td>1455.51</td>\n",
       "      <td>1440.31</td>\n",
       "    </tr>\n",
       "    <tr>\n",
<<<<<<< HEAD
       "      <th>2542</th>\n",
       "      <td>10/15/2012</td>\n",
       "      <td>1440.13</td>\n",
=======
       "      <th>2545</th>\n",
       "      <td>10/08/2012</td>\n",
       "      <td>1455.88</td>\n",
>>>>>>> f5951ecb3a78f5d0063c766b22041ff888f2b11e
       "      <td>--</td>\n",
       "      <td>1428.75</td>\n",
       "      <td>1441.31</td>\n",
       "      <td>1427.24</td>\n",
       "    </tr>\n",
<<<<<<< HEAD
       "    <tr>\n",
       "      <th>2543</th>\n",
       "      <td>10/12/2012</td>\n",
       "      <td>1428.59</td>\n",
       "      <td>--</td>\n",
       "      <td>1432.84</td>\n",
       "      <td>1438.43</td>\n",
       "      <td>1425.53</td>\n",
       "    </tr>\n",
       "    <tr>\n",
       "      <th>2544</th>\n",
       "      <td>10/11/2012</td>\n",
       "      <td>1432.84</td>\n",
       "      <td>--</td>\n",
       "      <td>1432.82</td>\n",
       "      <td>1443.90</td>\n",
       "      <td>1432.82</td>\n",
       "    </tr>\n",
       "    <tr>\n",
       "      <th>2545</th>\n",
       "      <td>10/10/2012</td>\n",
       "      <td>1432.56</td>\n",
       "      <td>--</td>\n",
       "      <td>1441.48</td>\n",
       "      <td>1442.52</td>\n",
       "      <td>1430.64</td>\n",
       "    </tr>\n",
=======
>>>>>>> f5951ecb3a78f5d0063c766b22041ff888f2b11e
       "  </tbody>\n",
       "</table>\n",
       "<p>2546 rows × 6 columns</p>\n",
       "</div>"
      ],
      "text/plain": [
       "            Date  Close/Last Volume     Open     High      Low\n",
<<<<<<< HEAD
       "0     10/07/2022     3639.66     --  3706.74  3706.74  3620.73\n",
       "1     10/06/2022     3744.52     --  3771.97  3797.93  3739.22\n",
       "2     10/05/2022     3783.28     --  3753.25  3806.91  3722.66\n",
       "3     10/04/2022     3790.93     --  3726.46  3791.92  3726.46\n",
       "4     10/03/2022     3678.43     --  3609.78  3698.35  3604.93\n",
       "...          ...         ...    ...      ...      ...      ...\n",
       "2541  10/16/2012     1454.92     --  1440.31  1455.51  1440.31\n",
       "2542  10/15/2012     1440.13     --  1428.75  1441.31  1427.24\n",
       "2543  10/12/2012     1428.59     --  1432.84  1438.43  1425.53\n",
       "2544  10/11/2012     1432.84     --  1432.82  1443.90  1432.82\n",
       "2545  10/10/2012     1432.56     --  1441.48  1442.52  1430.64\n",
=======
       "0     10/05/2022     3783.28     --  3753.25  3806.91  3722.66\n",
       "1     10/04/2022     3790.93     --  3726.46  3791.92  3726.46\n",
       "2     10/03/2022     3678.43     --  3609.78  3698.35  3604.93\n",
       "3     09/30/2022     3585.62     --  3633.48  3671.44  3584.13\n",
       "4     09/29/2022     3640.47     --  3687.01  3687.01  3610.40\n",
       "...          ...         ...    ...      ...      ...      ...\n",
       "2541  10/12/2012     1428.59     --  1432.84  1438.43  1425.53\n",
       "2542  10/11/2012     1432.84     --  1432.82  1443.90  1432.82\n",
       "2543  10/10/2012     1432.56     --  1441.48  1442.52  1430.64\n",
       "2544  10/09/2012     1441.48     --  1455.90  1455.90  1441.18\n",
       "2545  10/08/2012     1455.88     --  1460.93  1460.93  1453.10\n",
>>>>>>> f5951ecb3a78f5d0063c766b22041ff888f2b11e
       "\n",
       "[2546 rows x 6 columns]"
      ]
     },
     "execution_count": 1,
     "metadata": {},
     "output_type": "execute_result"
    }
   ],
   "source": [
    "#Stock Market (S&P 500) Sigma (standard deviation) Analysis\n",
    "#created by John Broberg on 2022-05-29\n",
    "#inspired by \"LET THE WILD RUMPUS BEGIN\" by JEREMY GRANTHAM of GMO\n",
    "#ref. https://www.gmo.com/globalassets/articles/viewpoints/2022/gmo_let-the-wild-rumpus-begin_1-22.pdf\n",
    "\n",
    "#https://www.gmo.com/americas/research-library/entering-the-superbubbles-final-act/\n",
    "#\"...superbubbles – 2.5 to 3 sigma events...\"\n",
    "#\"...ordinary 2 sigma bubbles...\"\n",
    "#\"Ordinary bubbles are, to us, those that reach a 2 sigma deviation from trend. Superbubbles reach 2.5 sigma or greater.\"\n",
    "\n",
    "#source data: https://www.nasdaq.com/market-activity/index/spx/historical\n",
    "\n",
    "#cd\n",
    "#cd git/StockMarketSigma\n",
    "#git pull https://github.com/JohnBroberg/StockMarketSigma.git\n",
    "\n",
    "#Get trendline equation\n",
    "#https://stackoverflow.com/questions/49460596/add-trendline-with-equation-in-2d-array\n",
    "#https://stackoverflow.com/questions/26447191/how-to-add-trendline-in-python-matplotlib-dot-scatter-graphs\n",
    "\n",
    "\n",
    "import pandas as pd\n",
    "import numpy as np\n",
    "import matplotlib.pyplot as plt\n",
    "import seaborn as sns\n",
    "\n",
<<<<<<< HEAD
    "data = 'HistoricalData_1665407936704.csv'\n",
=======
    "data = 'HistoricalData_1665059029748.csv'\n",
>>>>>>> f5951ecb3a78f5d0063c766b22041ff888f2b11e
    "df = pd.read_csv(data)\n",
    "\n",
    "df\n"
   ]
  },
  {
   "cell_type": "code",
   "execution_count": 2,
   "id": "3cb9ac74",
   "metadata": {},
   "outputs": [
    {
     "data": {
      "text/html": [
       "<div>\n",
       "<style scoped>\n",
       "    .dataframe tbody tr th:only-of-type {\n",
       "        vertical-align: middle;\n",
       "    }\n",
       "\n",
       "    .dataframe tbody tr th {\n",
       "        vertical-align: top;\n",
       "    }\n",
       "\n",
       "    .dataframe thead th {\n",
       "        text-align: right;\n",
       "    }\n",
       "</style>\n",
       "<table border=\"1\" class=\"dataframe\">\n",
       "  <thead>\n",
       "    <tr style=\"text-align: right;\">\n",
       "      <th></th>\n",
       "      <th>Close/Last</th>\n",
       "      <th>Open</th>\n",
       "      <th>High</th>\n",
       "      <th>Low</th>\n",
       "    </tr>\n",
       "  </thead>\n",
       "  <tbody>\n",
       "    <tr>\n",
       "      <th>count</th>\n",
       "      <td>2546.000000</td>\n",
       "      <td>2546.000000</td>\n",
       "      <td>2546.000000</td>\n",
       "      <td>2546.000000</td>\n",
       "    </tr>\n",
       "    <tr>\n",
       "      <th>mean</th>\n",
<<<<<<< HEAD
       "      <td>2677.129163</td>\n",
       "      <td>2654.759485</td>\n",
       "      <td>2668.738240</td>\n",
       "      <td>2639.452262</td>\n",
       "    </tr>\n",
       "    <tr>\n",
       "      <th>std</th>\n",
       "      <td>877.288847</td>\n",
       "      <td>920.295163</td>\n",
       "      <td>926.566477</td>\n",
       "      <td>913.192437</td>\n",
=======
       "      <td>2675.366862</td>\n",
       "      <td>2652.967702</td>\n",
       "      <td>2666.936261</td>\n",
       "      <td>2637.698268</td>\n",
       "    </tr>\n",
       "    <tr>\n",
       "      <th>std</th>\n",
       "      <td>877.500355</td>\n",
       "      <td>920.401789</td>\n",
       "      <td>926.687114</td>\n",
       "      <td>913.335077</td>\n",
>>>>>>> f5951ecb3a78f5d0063c766b22041ff888f2b11e
       "    </tr>\n",
       "    <tr>\n",
       "      <th>min</th>\n",
       "      <td>1353.330000</td>\n",
       "      <td>0.000000</td>\n",
       "      <td>0.000000</td>\n",
       "      <td>0.000000</td>\n",
       "    </tr>\n",
       "    <tr>\n",
       "      <th>25%</th>\n",
<<<<<<< HEAD
       "      <td>2017.547500</td>\n",
       "      <td>2010.630000</td>\n",
       "      <td>2020.982500</td>\n",
       "      <td>1995.750000</td>\n",
       "    </tr>\n",
       "    <tr>\n",
       "      <th>50%</th>\n",
       "      <td>2475.955000</td>\n",
       "      <td>2476.455000</td>\n",
       "      <td>2486.495000</td>\n",
       "      <td>2466.400000</td>\n",
       "    </tr>\n",
       "    <tr>\n",
       "      <th>75%</th>\n",
       "      <td>3124.272500</td>\n",
       "      <td>3134.792500</td>\n",
       "      <td>3142.547500</td>\n",
       "      <td>3111.740000</td>\n",
=======
       "      <td>2016.125000</td>\n",
       "      <td>2007.647500</td>\n",
       "      <td>2020.212500</td>\n",
       "      <td>1994.745000</td>\n",
       "    </tr>\n",
       "    <tr>\n",
       "      <th>50%</th>\n",
       "      <td>2475.170000</td>\n",
       "      <td>2475.750000</td>\n",
       "      <td>2481.465000</td>\n",
       "      <td>2464.860000</td>\n",
       "    </tr>\n",
       "    <tr>\n",
       "      <th>75%</th>\n",
       "      <td>3121.637500</td>\n",
       "      <td>3130.112500</td>\n",
       "      <td>3140.050000</td>\n",
       "      <td>3108.750000</td>\n",
>>>>>>> f5951ecb3a78f5d0063c766b22041ff888f2b11e
       "    </tr>\n",
       "    <tr>\n",
       "      <th>max</th>\n",
       "      <td>4796.560000</td>\n",
       "      <td>4804.510000</td>\n",
       "      <td>4818.620000</td>\n",
       "      <td>4780.040000</td>\n",
       "    </tr>\n",
       "  </tbody>\n",
       "</table>\n",
       "</div>"
      ],
      "text/plain": [
       "        Close/Last         Open         High          Low\n",
       "count  2546.000000  2546.000000  2546.000000  2546.000000\n",
<<<<<<< HEAD
       "mean   2677.129163  2654.759485  2668.738240  2639.452262\n",
       "std     877.288847   920.295163   926.566477   913.192437\n",
       "min    1353.330000     0.000000     0.000000     0.000000\n",
       "25%    2017.547500  2010.630000  2020.982500  1995.750000\n",
       "50%    2475.955000  2476.455000  2486.495000  2466.400000\n",
       "75%    3124.272500  3134.792500  3142.547500  3111.740000\n",
=======
       "mean   2675.366862  2652.967702  2666.936261  2637.698268\n",
       "std     877.500355   920.401789   926.687114   913.335077\n",
       "min    1353.330000     0.000000     0.000000     0.000000\n",
       "25%    2016.125000  2007.647500  2020.212500  1994.745000\n",
       "50%    2475.170000  2475.750000  2481.465000  2464.860000\n",
       "75%    3121.637500  3130.112500  3140.050000  3108.750000\n",
>>>>>>> f5951ecb3a78f5d0063c766b22041ff888f2b11e
       "max    4796.560000  4804.510000  4818.620000  4780.040000"
      ]
     },
     "execution_count": 2,
     "metadata": {},
     "output_type": "execute_result"
    }
   ],
   "source": [
    "df.describe()"
   ]
  },
  {
   "cell_type": "code",
   "execution_count": 3,
   "id": "62634cf9",
   "metadata": {},
   "outputs": [
    {
     "data": {
      "text/html": [
       "<div>\n",
       "<style scoped>\n",
       "    .dataframe tbody tr th:only-of-type {\n",
       "        vertical-align: middle;\n",
       "    }\n",
       "\n",
       "    .dataframe tbody tr th {\n",
       "        vertical-align: top;\n",
       "    }\n",
       "\n",
       "    .dataframe thead th {\n",
       "        text-align: right;\n",
       "    }\n",
       "</style>\n",
       "<table border=\"1\" class=\"dataframe\">\n",
       "  <thead>\n",
       "    <tr style=\"text-align: right;\">\n",
       "      <th></th>\n",
       "      <th>Close/Last</th>\n",
       "      <th>Open</th>\n",
       "      <th>High</th>\n",
       "      <th>Low</th>\n",
       "    </tr>\n",
       "  </thead>\n",
       "  <tbody>\n",
       "    <tr>\n",
       "      <th>count</th>\n",
       "      <td>2515.000000</td>\n",
       "      <td>2515.000000</td>\n",
       "      <td>2515.000000</td>\n",
       "      <td>2515.000000</td>\n",
       "    </tr>\n",
       "    <tr>\n",
       "      <th>mean</th>\n",
<<<<<<< HEAD
       "      <td>2687.808676</td>\n",
       "      <td>2687.482167</td>\n",
       "      <td>2701.633225</td>\n",
       "      <td>2671.986266</td>\n",
       "    </tr>\n",
       "    <tr>\n",
       "      <th>std</th>\n",
       "      <td>876.918671</td>\n",
       "      <td>877.160302</td>\n",
       "      <td>883.292893</td>\n",
       "      <td>870.194499</td>\n",
=======
       "      <td>2686.024652</td>\n",
       "      <td>2685.668298</td>\n",
       "      <td>2699.809034</td>\n",
       "      <td>2670.210652</td>\n",
       "    </tr>\n",
       "    <tr>\n",
       "      <th>std</th>\n",
       "      <td>877.154585</td>\n",
       "      <td>877.341209</td>\n",
       "      <td>883.488926</td>\n",
       "      <td>870.412406</td>\n",
>>>>>>> f5951ecb3a78f5d0063c766b22041ff888f2b11e
       "    </tr>\n",
       "    <tr>\n",
       "      <th>min</th>\n",
       "      <td>1353.330000</td>\n",
       "      <td>1353.360000</td>\n",
       "      <td>1360.620000</td>\n",
       "      <td>1343.350000</td>\n",
       "    </tr>\n",
       "    <tr>\n",
       "      <th>25%</th>\n",
<<<<<<< HEAD
       "      <td>2023.035000</td>\n",
       "      <td>2022.930000</td>\n",
       "      <td>2034.355000</td>\n",
       "      <td>2011.295000</td>\n",
       "    </tr>\n",
       "    <tr>\n",
       "      <th>50%</th>\n",
       "      <td>2496.840000</td>\n",
       "      <td>2497.260000</td>\n",
       "      <td>2508.850000</td>\n",
       "      <td>2478.860000</td>\n",
       "    </tr>\n",
       "    <tr>\n",
       "      <th>75%</th>\n",
       "      <td>3138.240000</td>\n",
       "      <td>3141.170000</td>\n",
       "      <td>3154.580000</td>\n",
       "      <td>3127.390000</td>\n",
=======
       "      <td>2022.370000</td>\n",
       "      <td>2022.115000</td>\n",
       "      <td>2033.810000</td>\n",
       "      <td>2009.420000</td>\n",
       "    </tr>\n",
       "    <tr>\n",
       "      <th>50%</th>\n",
       "      <td>2496.480000</td>\n",
       "      <td>2495.670000</td>\n",
       "      <td>2507.840000</td>\n",
       "      <td>2474.940000</td>\n",
       "    </tr>\n",
       "    <tr>\n",
       "      <th>75%</th>\n",
       "      <td>3133.080000</td>\n",
       "      <td>3140.095000</td>\n",
       "      <td>3152.025000</td>\n",
       "      <td>3125.305000</td>\n",
>>>>>>> f5951ecb3a78f5d0063c766b22041ff888f2b11e
       "    </tr>\n",
       "    <tr>\n",
       "      <th>max</th>\n",
       "      <td>4796.560000</td>\n",
       "      <td>4804.510000</td>\n",
       "      <td>4818.620000</td>\n",
       "      <td>4780.040000</td>\n",
       "    </tr>\n",
       "  </tbody>\n",
       "</table>\n",
       "</div>"
      ],
      "text/plain": [
       "        Close/Last         Open         High          Low\n",
       "count  2515.000000  2515.000000  2515.000000  2515.000000\n",
<<<<<<< HEAD
       "mean   2687.808676  2687.482167  2701.633225  2671.986266\n",
       "std     876.918671   877.160302   883.292893   870.194499\n",
       "min    1353.330000  1353.360000  1360.620000  1343.350000\n",
       "25%    2023.035000  2022.930000  2034.355000  2011.295000\n",
       "50%    2496.840000  2497.260000  2508.850000  2478.860000\n",
       "75%    3138.240000  3141.170000  3154.580000  3127.390000\n",
=======
       "mean   2686.024652  2685.668298  2699.809034  2670.210652\n",
       "std     877.154585   877.341209   883.488926   870.412406\n",
       "min    1353.330000  1353.360000  1360.620000  1343.350000\n",
       "25%    2022.370000  2022.115000  2033.810000  2009.420000\n",
       "50%    2496.480000  2495.670000  2507.840000  2474.940000\n",
       "75%    3133.080000  3140.095000  3152.025000  3125.305000\n",
>>>>>>> f5951ecb3a78f5d0063c766b22041ff888f2b11e
       "max    4796.560000  4804.510000  4818.620000  4780.040000"
      ]
     },
     "execution_count": 3,
     "metadata": {},
     "output_type": "execute_result"
    }
   ],
   "source": [
    "#remove holidays (Open == 0)\n",
    "\n",
    "df = df.loc[~(df['Open']==0)]\n",
    "df.describe()"
   ]
  },
  {
   "cell_type": "code",
   "execution_count": 4,
   "id": "78458cb3",
   "metadata": {},
   "outputs": [
    {
     "name": "stdout",
     "output_type": "stream",
     "text": [
      "<class 'pandas.core.frame.DataFrame'>\n",
      "Int64Index: 2515 entries, 0 to 2545\n",
      "Data columns (total 6 columns):\n",
      " #   Column      Non-Null Count  Dtype  \n",
      "---  ------      --------------  -----  \n",
      " 0   Date        2515 non-null   object \n",
      " 1   Close/Last  2515 non-null   float64\n",
      " 2   Volume      2515 non-null   object \n",
      " 3   Open        2515 non-null   float64\n",
      " 4   High        2515 non-null   float64\n",
      " 5   Low         2515 non-null   float64\n",
      "dtypes: float64(4), object(2)\n",
      "memory usage: 137.5+ KB\n"
     ]
    }
   ],
   "source": [
    "df.info()"
   ]
  },
  {
   "cell_type": "code",
   "execution_count": 5,
   "id": "8b7a5035",
   "metadata": {},
   "outputs": [
    {
     "data": {
      "text/plain": [
       "(2515, 6)"
      ]
     },
     "execution_count": 5,
     "metadata": {},
     "output_type": "execute_result"
    }
   ],
   "source": [
    "df.shape"
   ]
  },
  {
   "cell_type": "code",
   "execution_count": 6,
   "id": "ac8615bf",
   "metadata": {},
   "outputs": [
    {
     "data": {
      "text/plain": [
       "Date          False\n",
       "Close/Last    False\n",
       "Volume        False\n",
       "Open          False\n",
       "High          False\n",
       "Low           False\n",
       "dtype: bool"
      ]
     },
     "execution_count": 6,
     "metadata": {},
     "output_type": "execute_result"
    }
   ],
   "source": [
    "df.isnull().any()"
   ]
  },
  {
   "cell_type": "code",
   "execution_count": 7,
   "id": "f7005b57",
   "metadata": {},
   "outputs": [
    {
     "data": {
      "text/plain": [
       "<function matplotlib.pyplot.show(close=None, block=None)>"
      ]
     },
     "execution_count": 7,
     "metadata": {},
     "output_type": "execute_result"
    },
    {
     "data": {
<<<<<<< HEAD
      "image/png": "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\n",
=======
      "image/png": "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\n",
>>>>>>> f5951ecb3a78f5d0063c766b22041ff888f2b11e
      "text/plain": [
       "<Figure size 432x288 with 1 Axes>"
      ]
     },
     "metadata": {},
     "output_type": "display_data"
    }
   ],
   "source": [
    "sns.set()\n",
    "\n",
    "plt.hist(df['Close/Last'])\n",
    "plt.show"
   ]
  },
  {
   "cell_type": "code",
   "execution_count": 8,
   "id": "bb0a122c",
   "metadata": {},
   "outputs": [
    {
     "data": {
      "text/plain": [
<<<<<<< HEAD
       "3639.66"
=======
       "3783.28"
>>>>>>> f5951ecb3a78f5d0063c766b22041ff888f2b11e
      ]
     },
     "execution_count": 8,
     "metadata": {},
     "output_type": "execute_result"
    }
   ],
   "source": [
    "close_current = df['Close/Last'].iloc[0]\n",
    "close_current"
   ]
  },
  {
   "cell_type": "code",
   "execution_count": 9,
   "id": "e5f819b3",
   "metadata": {},
   "outputs": [
    {
     "data": {
      "text/plain": [
<<<<<<< HEAD
       "2687.808675944343"
=======
       "2686.0246520874844"
>>>>>>> f5951ecb3a78f5d0063c766b22041ff888f2b11e
      ]
     },
     "execution_count": 9,
     "metadata": {},
     "output_type": "execute_result"
    }
   ],
   "source": [
    "close_mean = df['Close/Last'].mean()\n",
    "close_mean"
   ]
  },
  {
   "cell_type": "code",
   "execution_count": 10,
   "id": "da3f53bd",
   "metadata": {},
   "outputs": [
    {
     "data": {
      "text/plain": [
<<<<<<< HEAD
       "876.9186711486446"
=======
       "877.1545850647694"
>>>>>>> f5951ecb3a78f5d0063c766b22041ff888f2b11e
      ]
     },
     "execution_count": 10,
     "metadata": {},
     "output_type": "execute_result"
    }
   ],
   "source": [
    "close_sd = df['Close/Last'].std()\n",
    "close_sd"
   ]
  },
  {
   "cell_type": "code",
   "execution_count": 11,
   "id": "d17e2d7b",
   "metadata": {},
   "outputs": [
    {
     "data": {
      "text/plain": [
<<<<<<< HEAD
       "3564.7273470929877"
=======
       "3563.179237152254"
>>>>>>> f5951ecb3a78f5d0063c766b22041ff888f2b11e
      ]
     },
     "execution_count": 11,
     "metadata": {},
     "output_type": "execute_result"
    }
   ],
   "source": [
    "sigma1 = close_mean + close_sd\n",
    "sigma1"
   ]
  },
  {
   "cell_type": "code",
   "execution_count": 12,
   "id": "38e6474d",
   "metadata": {},
   "outputs": [
    {
     "data": {
      "text/plain": [
<<<<<<< HEAD
       "4441.646018241632"
=======
       "4440.333822217023"
>>>>>>> f5951ecb3a78f5d0063c766b22041ff888f2b11e
      ]
     },
     "execution_count": 12,
     "metadata": {},
     "output_type": "execute_result"
    }
   ],
   "source": [
    "sigma2 = close_mean + (2 * close_sd)  #bubble (from trend) according to Grantham\n",
    "sigma2"
   ]
  },
  {
   "cell_type": "code",
   "execution_count": 13,
   "id": "d1791a15",
   "metadata": {},
   "outputs": [
    {
     "data": {
      "text/plain": [
<<<<<<< HEAD
       "4880.105353815955"
=======
       "4878.911114749408"
>>>>>>> f5951ecb3a78f5d0063c766b22041ff888f2b11e
      ]
     },
     "execution_count": 13,
     "metadata": {},
     "output_type": "execute_result"
    }
   ],
   "source": [
    "sigma2_5 = close_mean + (2.5 * close_sd)  #super bubble (from trend) according to Grantham\n",
    "sigma2_5"
   ]
  },
  {
   "cell_type": "code",
   "execution_count": 14,
   "id": "51c65dd4",
   "metadata": {},
   "outputs": [
    {
     "name": "stdout",
     "output_type": "stream",
     "text": [
      "<class 'pandas.core.frame.DataFrame'>\n",
      "Int64Index: 2515 entries, 0 to 2545\n",
      "Data columns (total 2 columns):\n",
      " #   Column      Non-Null Count  Dtype         \n",
      "---  ------      --------------  -----         \n",
      " 0   Date        2515 non-null   datetime64[ns]\n",
      " 1   Close/Last  2515 non-null   float64       \n",
      "dtypes: datetime64[ns](1), float64(1)\n",
      "memory usage: 58.9 KB\n"
     ]
    }
   ],
   "source": [
    "cols = ['Date','Close/Last']\n",
    "df1 = df.loc[:,cols]\n",
    "df1['Date'] = pd.to_datetime(df1['Date'], format = \"%m/%d/%Y\" )\n",
    "df1.info()"
   ]
  },
  {
   "cell_type": "code",
   "execution_count": 15,
   "id": "68c3ba0d",
   "metadata": {},
   "outputs": [],
   "source": [
    "#Date Range\n",
    "date_start = min(df1['Date']).date()\n",
    "date_end = max(df1['Date']).date()"
   ]
  },
  {
   "cell_type": "code",
   "execution_count": 16,
   "id": "3eb98279",
   "metadata": {},
   "outputs": [
    {
     "data": {
      "text/plain": [
<<<<<<< HEAD
       "Text(0.5, 1.0, 'S&P 500 Daily Close/Last - 2012-10-10 to 2022-10-07')"
=======
       "Text(0.5, 1.0, 'S&P 500 Daily Close/Last - 2012-10-08 to 2022-10-05')"
>>>>>>> f5951ecb3a78f5d0063c766b22041ff888f2b11e
      ]
     },
     "execution_count": 16,
     "metadata": {},
     "output_type": "execute_result"
    },
    {
     "data": {
<<<<<<< HEAD
      "image/png": "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\n",
=======
      "image/png": "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\n",
>>>>>>> f5951ecb3a78f5d0063c766b22041ff888f2b11e
      "text/plain": [
       "<Figure size 432x288 with 1 Axes>"
      ]
     },
     "metadata": {},
     "output_type": "display_data"
    }
   ],
   "source": [
    "#Daily S&P 500 Close/Last, vs mean and standard deviations\n",
    "\n",
    "if close_current > sigma2:\n",
    "    c = 'red'\n",
    "elif close_current > sigma1:\n",
    "    c = 'orange'\n",
    "else: \n",
    "    c = 'green'\n",
    "\n",
    "df1.plot(x='Date', y='Close/Last', color = c)\n",
    "plt.axhline(close_mean, color='black', label='Mean')\n",
    "plt.axhline(sigma1, color='black', linestyle='--', label='+1 standard deviation')\n",
    "plt.axhline(sigma2, color='black', linestyle=':', label='+2 standard deviations')\n",
    "plt.legend()\n",
    "plt.title(f'S&P 500 Daily Close/Last - {date_start} to {date_end}')"
   ]
  },
  {
   "cell_type": "code",
   "execution_count": 17,
   "id": "9d3de969",
   "metadata": {
    "scrolled": true
   },
   "outputs": [
    {
     "data": {
      "text/plain": [
<<<<<<< HEAD
       "Text(0.5, 1.0, 'Density: S&P 500 Daily Close/Last - 2012-10-10 to 2022-10-07')"
=======
       "Text(0.5, 1.0, 'Density: S&P 500 Daily Close/Last - 2012-10-08 to 2022-10-05')"
>>>>>>> f5951ecb3a78f5d0063c766b22041ff888f2b11e
      ]
     },
     "execution_count": 17,
     "metadata": {},
     "output_type": "execute_result"
    },
    {
     "data": {
<<<<<<< HEAD
      "image/png": "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\n",
=======
      "image/png": "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\n",
>>>>>>> f5951ecb3a78f5d0063c766b22041ff888f2b11e
      "text/plain": [
       "<Figure size 360x360 with 1 Axes>"
      ]
     },
     "metadata": {},
     "output_type": "display_data"
    }
   ],
   "source": [
    "# Using Kernal Density Estimation (kde) to approximate probability density function\n",
    "# https://seaborn.pydata.org/tutorial/distributions.html #kernel-density-estimation\n",
    "#bw_adjust: adjust bandwidth to smoothe out modalities\n",
    "\n",
    "sns.displot(df1['Close/Last'], kind='kde', bw_adjust=3.0) \n",
    "\n",
    "plt.axvline(close_mean, color='black', label='Mean')\n",
    "plt.axvline(sigma1, color='black', linestyle='--', label='+1 standard deviations')\n",
    "plt.axvline(sigma2, color='black', linestyle=':', label='+2 standard deviations')\n",
    "plt.axvline(close_current, color=c, label='Latest Close/Last')\n",
    "plt.legend(loc='upper left')\n",
    "plt.title(f'Density: S&P 500 Daily Close/Last - {date_start} to {date_end}')"
   ]
  },
  {
   "cell_type": "code",
   "execution_count": 18,
   "id": "7a9eb4a6",
   "metadata": {},
   "outputs": [
    {
     "data": {
      "text/plain": [
<<<<<<< HEAD
       "1.0854499457844369"
=======
       "1.250925853430378"
>>>>>>> f5951ecb3a78f5d0063c766b22041ff888f2b11e
      ]
     },
     "execution_count": 18,
     "metadata": {},
     "output_type": "execute_result"
    }
   ],
   "source": [
    "z_score = (close_current - close_mean)/close_sd\n",
    "z_score"
   ]
  },
  {
   "cell_type": "code",
   "execution_count": 19,
   "id": "108ec4ba",
   "metadata": {},
   "outputs": [],
   "source": [
    "# https://realpython.com/linear-regression-in-python/\n",
    "#Step 4: Get results"
   ]
  }
 ],
 "metadata": {
  "kernelspec": {
   "display_name": "Python 3 (ipykernel)",
   "language": "python",
   "name": "python3"
  },
  "language_info": {
   "codemirror_mode": {
    "name": "ipython",
    "version": 3
   },
   "file_extension": ".py",
   "mimetype": "text/x-python",
   "name": "python",
   "nbconvert_exporter": "python",
   "pygments_lexer": "ipython3",
   "version": "3.9.7"
  }
 },
 "nbformat": 4,
 "nbformat_minor": 5
}

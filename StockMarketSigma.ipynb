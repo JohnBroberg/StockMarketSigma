{
 "cells": [
  {
   "cell_type": "code",
   "execution_count": 1,
   "id": "020e6d3d",
   "metadata": {},
   "outputs": [
    {
     "data": {
      "text/html": [
       "<div>\n",
       "<style scoped>\n",
       "    .dataframe tbody tr th:only-of-type {\n",
       "        vertical-align: middle;\n",
       "    }\n",
       "\n",
       "    .dataframe tbody tr th {\n",
       "        vertical-align: top;\n",
       "    }\n",
       "\n",
       "    .dataframe thead th {\n",
       "        text-align: right;\n",
       "    }\n",
       "</style>\n",
       "<table border=\"1\" class=\"dataframe\">\n",
       "  <thead>\n",
       "    <tr style=\"text-align: right;\">\n",
       "      <th></th>\n",
       "      <th>Date</th>\n",
       "      <th>Close/Last</th>\n",
       "      <th>Volume</th>\n",
       "      <th>Open</th>\n",
       "      <th>High</th>\n",
       "      <th>Low</th>\n",
       "    </tr>\n",
       "  </thead>\n",
       "  <tbody>\n",
       "    <tr>\n",
       "      <th>0</th>\n",
       "      <td>05/27/2022</td>\n",
       "      <td>4158.24</td>\n",
       "      <td>--</td>\n",
       "      <td>4077.43</td>\n",
       "      <td>4158.49</td>\n",
       "      <td>4077.43</td>\n",
       "    </tr>\n",
       "    <tr>\n",
       "      <th>1</th>\n",
       "      <td>05/26/2022</td>\n",
       "      <td>4057.84</td>\n",
       "      <td>--</td>\n",
       "      <td>3984.60</td>\n",
       "      <td>4075.14</td>\n",
       "      <td>3984.60</td>\n",
       "    </tr>\n",
       "    <tr>\n",
       "      <th>2</th>\n",
       "      <td>05/25/2022</td>\n",
       "      <td>3978.73</td>\n",
       "      <td>--</td>\n",
       "      <td>3929.59</td>\n",
       "      <td>3999.33</td>\n",
       "      <td>3925.03</td>\n",
       "    </tr>\n",
       "    <tr>\n",
       "      <th>3</th>\n",
       "      <td>05/24/2022</td>\n",
       "      <td>3941.48</td>\n",
       "      <td>--</td>\n",
       "      <td>3942.94</td>\n",
       "      <td>3955.68</td>\n",
       "      <td>3875.13</td>\n",
       "    </tr>\n",
       "    <tr>\n",
       "      <th>4</th>\n",
       "      <td>05/23/2022</td>\n",
       "      <td>3973.75</td>\n",
       "      <td>--</td>\n",
       "      <td>3927.02</td>\n",
       "      <td>3981.88</td>\n",
       "      <td>3909.04</td>\n",
       "    </tr>\n",
       "    <tr>\n",
       "      <th>...</th>\n",
       "      <td>...</td>\n",
       "      <td>...</td>\n",
       "      <td>...</td>\n",
       "      <td>...</td>\n",
       "      <td>...</td>\n",
       "      <td>...</td>\n",
       "    </tr>\n",
       "    <tr>\n",
       "      <th>2546</th>\n",
       "      <td>06/04/2012</td>\n",
       "      <td>1278.18</td>\n",
       "      <td>--</td>\n",
       "      <td>1278.29</td>\n",
       "      <td>1282.55</td>\n",
       "      <td>1266.74</td>\n",
       "    </tr>\n",
       "    <tr>\n",
       "      <th>2547</th>\n",
       "      <td>06/01/2012</td>\n",
       "      <td>1278.04</td>\n",
       "      <td>--</td>\n",
       "      <td>1309.87</td>\n",
       "      <td>1309.87</td>\n",
       "      <td>1277.25</td>\n",
       "    </tr>\n",
       "    <tr>\n",
       "      <th>2548</th>\n",
       "      <td>05/31/2012</td>\n",
       "      <td>1310.33</td>\n",
       "      <td>--</td>\n",
       "      <td>1313.09</td>\n",
       "      <td>1319.74</td>\n",
       "      <td>1298.90</td>\n",
       "    </tr>\n",
       "    <tr>\n",
       "      <th>2549</th>\n",
       "      <td>05/30/2012</td>\n",
       "      <td>1313.32</td>\n",
       "      <td>--</td>\n",
       "      <td>1331.25</td>\n",
       "      <td>1331.25</td>\n",
       "      <td>1310.76</td>\n",
       "    </tr>\n",
       "    <tr>\n",
       "      <th>2550</th>\n",
       "      <td>05/29/2012</td>\n",
       "      <td>1332.42</td>\n",
       "      <td>--</td>\n",
       "      <td>1318.90</td>\n",
       "      <td>1334.93</td>\n",
       "      <td>1318.90</td>\n",
       "    </tr>\n",
       "  </tbody>\n",
       "</table>\n",
       "<p>2551 rows × 6 columns</p>\n",
       "</div>"
      ],
      "text/plain": [
       "            Date  Close/Last Volume     Open     High      Low\n",
       "0     05/27/2022     4158.24     --  4077.43  4158.49  4077.43\n",
       "1     05/26/2022     4057.84     --  3984.60  4075.14  3984.60\n",
       "2     05/25/2022     3978.73     --  3929.59  3999.33  3925.03\n",
       "3     05/24/2022     3941.48     --  3942.94  3955.68  3875.13\n",
       "4     05/23/2022     3973.75     --  3927.02  3981.88  3909.04\n",
       "...          ...         ...    ...      ...      ...      ...\n",
       "2546  06/04/2012     1278.18     --  1278.29  1282.55  1266.74\n",
       "2547  06/01/2012     1278.04     --  1309.87  1309.87  1277.25\n",
       "2548  05/31/2012     1310.33     --  1313.09  1319.74  1298.90\n",
       "2549  05/30/2012     1313.32     --  1331.25  1331.25  1310.76\n",
       "2550  05/29/2012     1332.42     --  1318.90  1334.93  1318.90\n",
       "\n",
       "[2551 rows x 6 columns]"
      ]
     },
     "execution_count": 1,
     "metadata": {},
     "output_type": "execute_result"
    }
   ],
   "source": [
    "#Stock Market (S&P 500) Sigma (standard deviation) Analysis\n",
    "#created by John Broberg on 2022-05-29\n",
    "\n",
    "#source: https://www.nasdaq.com/market-activity/index/spx/historical\n",
    "\n",
    "#cd\n",
    "#cd Desktop\n",
    "#cd StockMarketSigma\n",
    "#git pull https://github.com/JohnBroberg/StockMarketSigma.git\n",
    "\n",
    "\n",
    "import pandas as pd\n",
    "import numpy as np\n",
    "import matplotlib.pyplot as plt\n",
    "import seaborn as sns\n",
    "\n",
    "data = 'HistoricalData_1653861486365.csv'\n",
    "df = pd.read_csv(data)\n",
    "\n",
    "df\n"
   ]
  },
  {
   "cell_type": "code",
   "execution_count": 2,
   "id": "3cb9ac74",
   "metadata": {},
   "outputs": [
    {
     "data": {
      "text/html": [
       "<div>\n",
       "<style scoped>\n",
       "    .dataframe tbody tr th:only-of-type {\n",
       "        vertical-align: middle;\n",
       "    }\n",
       "\n",
       "    .dataframe tbody tr th {\n",
       "        vertical-align: top;\n",
       "    }\n",
       "\n",
       "    .dataframe thead th {\n",
       "        text-align: right;\n",
       "    }\n",
       "</style>\n",
       "<table border=\"1\" class=\"dataframe\">\n",
       "  <thead>\n",
       "    <tr style=\"text-align: right;\">\n",
       "      <th></th>\n",
       "      <th>Close/Last</th>\n",
       "      <th>Open</th>\n",
       "      <th>High</th>\n",
       "      <th>Low</th>\n",
       "    </tr>\n",
       "  </thead>\n",
       "  <tbody>\n",
       "    <tr>\n",
       "      <th>count</th>\n",
       "      <td>2551.000000</td>\n",
       "      <td>2551.000000</td>\n",
       "      <td>2551.000000</td>\n",
       "      <td>2551.000000</td>\n",
       "    </tr>\n",
       "    <tr>\n",
       "      <th>mean</th>\n",
       "      <td>2583.117158</td>\n",
       "      <td>2559.599008</td>\n",
       "      <td>2572.692799</td>\n",
       "      <td>2545.322967</td>\n",
       "    </tr>\n",
       "    <tr>\n",
       "      <th>std</th>\n",
       "      <td>873.677321</td>\n",
       "      <td>916.693034</td>\n",
       "      <td>922.345386</td>\n",
       "      <td>910.206600</td>\n",
       "    </tr>\n",
       "    <tr>\n",
       "      <th>min</th>\n",
       "      <td>1278.040000</td>\n",
       "      <td>0.000000</td>\n",
       "      <td>0.000000</td>\n",
       "      <td>0.000000</td>\n",
       "    </tr>\n",
       "    <tr>\n",
       "      <th>25%</th>\n",
       "      <td>1967.735000</td>\n",
       "      <td>1961.115000</td>\n",
       "      <td>1969.255000</td>\n",
       "      <td>1947.805000</td>\n",
       "    </tr>\n",
       "    <tr>\n",
       "      <th>50%</th>\n",
       "      <td>2388.130000</td>\n",
       "      <td>2388.500000</td>\n",
       "      <td>2393.680000</td>\n",
       "      <td>2377.640000</td>\n",
       "    </tr>\n",
       "    <tr>\n",
       "      <th>75%</th>\n",
       "      <td>2976.675000</td>\n",
       "      <td>2976.180000</td>\n",
       "      <td>2988.370000</td>\n",
       "      <td>2961.770000</td>\n",
       "    </tr>\n",
       "    <tr>\n",
       "      <th>max</th>\n",
       "      <td>4796.560000</td>\n",
       "      <td>4804.510000</td>\n",
       "      <td>4818.620000</td>\n",
       "      <td>4780.040000</td>\n",
       "    </tr>\n",
       "  </tbody>\n",
       "</table>\n",
       "</div>"
      ],
      "text/plain": [
       "        Close/Last         Open         High          Low\n",
       "count  2551.000000  2551.000000  2551.000000  2551.000000\n",
       "mean   2583.117158  2559.599008  2572.692799  2545.322967\n",
       "std     873.677321   916.693034   922.345386   910.206600\n",
       "min    1278.040000     0.000000     0.000000     0.000000\n",
       "25%    1967.735000  1961.115000  1969.255000  1947.805000\n",
       "50%    2388.130000  2388.500000  2393.680000  2377.640000\n",
       "75%    2976.675000  2976.180000  2988.370000  2961.770000\n",
       "max    4796.560000  4804.510000  4818.620000  4780.040000"
      ]
     },
     "execution_count": 2,
     "metadata": {},
     "output_type": "execute_result"
    }
   ],
   "source": [
    "df.describe()"
   ]
  },
  {
   "cell_type": "code",
   "execution_count": 3,
   "id": "78458cb3",
   "metadata": {},
   "outputs": [
    {
     "name": "stdout",
     "output_type": "stream",
     "text": [
      "<class 'pandas.core.frame.DataFrame'>\n",
      "RangeIndex: 2551 entries, 0 to 2550\n",
      "Data columns (total 6 columns):\n",
      " #   Column      Non-Null Count  Dtype  \n",
      "---  ------      --------------  -----  \n",
      " 0   Date        2551 non-null   object \n",
      " 1   Close/Last  2551 non-null   float64\n",
      " 2   Volume      2551 non-null   object \n",
      " 3   Open        2551 non-null   float64\n",
      " 4   High        2551 non-null   float64\n",
      " 5   Low         2551 non-null   float64\n",
      "dtypes: float64(4), object(2)\n",
      "memory usage: 119.7+ KB\n"
     ]
    }
   ],
   "source": [
    "df.info()"
   ]
  },
  {
   "cell_type": "code",
   "execution_count": 4,
   "id": "8b7a5035",
   "metadata": {},
   "outputs": [
    {
     "data": {
      "text/plain": [
       "(2551, 6)"
      ]
     },
     "execution_count": 4,
     "metadata": {},
     "output_type": "execute_result"
    }
   ],
   "source": [
    "df.shape"
   ]
  },
  {
   "cell_type": "code",
   "execution_count": 5,
   "id": "ac8615bf",
   "metadata": {},
   "outputs": [
    {
     "data": {
      "text/plain": [
       "Date          False\n",
       "Close/Last    False\n",
       "Volume        False\n",
       "Open          False\n",
       "High          False\n",
       "Low           False\n",
       "dtype: bool"
      ]
     },
     "execution_count": 5,
     "metadata": {},
     "output_type": "execute_result"
    }
   ],
   "source": [
    "df.isnull().any()"
   ]
  },
  {
   "cell_type": "code",
   "execution_count": 6,
   "id": "f7005b57",
   "metadata": {},
   "outputs": [
    {
     "data": {
      "text/plain": [
       "<function matplotlib.pyplot.show(close=None, block=None)>"
      ]
     },
     "execution_count": 6,
     "metadata": {},
     "output_type": "execute_result"
    },
    {
     "data": {
      "image/png": "[encoded data removed]",
      "text/plain": [
       "<Figure size 432x288 with 1 Axes>"
      ]
     },
     "metadata": {},
     "output_type": "display_data"
    }
   ],
   "source": [
    "sns.set()\n",
    "\n",
    "plt.hist(df['Close/Last'])\n",
    "plt.show"
   ]
  },
  {
   "cell_type": "code",
   "execution_count": 7,
   "id": "6941579c",
   "metadata": {},
   "outputs": [
    {
     "data": {
      "text/plain": [
       "4158.24"
      ]
     },
     "execution_count": 7,
     "metadata": {},
     "output_type": "execute_result"
    }
   ],
   "source": [
    "close_current = df['Close/Last'].iloc[0]\n",
    "close_current"
   ]
  },
  {
   "cell_type": "code",
   "execution_count": 8,
   "id": "e5f819b3",
   "metadata": {},
   "outputs": [
    {
     "data": {
      "text/plain": [
       "2583.1171579772736"
      ]
     },
     "execution_count": 8,
     "metadata": {},
     "output_type": "execute_result"
    }
   ],
   "source": [
    "close_mean = df['Close/Last'].mean()\n",
    "close_mean"
   ]
  },
  {
   "cell_type": "code",
   "execution_count": 9,
   "id": "da3f53bd",
   "metadata": {},
   "outputs": [
    {
     "data": {
      "text/plain": [
       "873.6773205087403"
      ]
     },
     "execution_count": 9,
     "metadata": {},
     "output_type": "execute_result"
    }
   ],
   "source": [
    "close_sd = df['Close/Last'].std()\n",
    "close_sd"
   ]
  },
  {
   "cell_type": "code",
   "execution_count": 10,
   "id": "d17e2d7b",
   "metadata": {},
   "outputs": [
    {
     "data": {
      "text/plain": [
       "3456.7944784860138"
      ]
     },
     "execution_count": 10,
     "metadata": {},
     "output_type": "execute_result"
    }
   ],
   "source": [
    "sigma1 = close_mean + close_sd\n",
    "sigma1"
   ]
  },
  {
   "cell_type": "code",
   "execution_count": 11,
   "id": "38e6474d",
   "metadata": {},
   "outputs": [
    {
     "data": {
      "text/plain": [
       "4330.471798994754"
      ]
     },
     "execution_count": 11,
     "metadata": {},
     "output_type": "execute_result"
    }
   ],
   "source": [
    "sigma2 = close_mean + (2 * close_sd)\n",
    "sigma2"
   ]
  },
  {
   "cell_type": "code",
   "execution_count": 12,
   "id": "d1791a15",
   "metadata": {},
   "outputs": [
    {
     "data": {
      "text/plain": [
       "5204.149119503494"
      ]
     },
     "execution_count": 12,
     "metadata": {},
     "output_type": "execute_result"
    }
   ],
   "source": [
    "sigma3 = close_mean + (3 * close_sd)\n",
    "sigma3"
   ]
  },
  {
   "cell_type": "code",
   "execution_count": 13,
   "id": "e0802b51",
   "metadata": {},
   "outputs": [
    {
     "data": {
      "text/plain": [
       "<matplotlib.lines.Line2D at 0x1d03d5c37f0>"
      ]
     },
     "execution_count": 13,
     "metadata": {},
     "output_type": "execute_result"
    },
    {
     "data": {
      "image/png": "[encoded data removed]",
      "text/plain": [
       "<Figure size 360x360 with 1 Axes>"
      ]
     },
     "metadata": {},
     "output_type": "display_data"
    }
   ],
   "source": [
    "# Using Kernal Density Estimation (kde) to approximate probability density function\n",
    "# https://seaborn.pydata.org/tutorial/distributions.html#kernel-density-estimation\n",
    "#bw_adjust: adjust bandwidth to smoothe out modalities\n",
    "\n",
    "sns.displot(df['Close/Last'], kind='kde', bw_adjust=3.0) \n",
    "\n",
    "plt.axvline(close_mean, color='black')\n",
    "plt.axvline(sigma1, color='black', linestyle='--')\n",
    "plt.axvline(sigma2, color='black', linestyle='--')\n",
    "plt.axvline(close_current, color='red')"
   ]
  },
  {
   "cell_type": "code",
   "execution_count": 14,
   "id": "059a7b6d",
   "metadata": {},
   "outputs": [
    {
     "name": "stdout",
     "output_type": "stream",
     "text": [
      "<class 'pandas.core.frame.DataFrame'>\n",
      "RangeIndex: 2551 entries, 0 to 2550\n",
      "Data columns (total 2 columns):\n",
      " #   Column      Non-Null Count  Dtype         \n",
      "---  ------      --------------  -----         \n",
      " 0   Date        2551 non-null   datetime64[ns]\n",
      " 1   Close/Last  2551 non-null   float64       \n",
      "dtypes: datetime64[ns](1), float64(1)\n",
      "memory usage: 40.0 KB\n"
     ]
    }
   ],
   "source": [
    "cols = ['Date','Close/Last']\n",
    "df1 = df.loc[:,cols]\n",
    "df1['Date'] = pd.to_datetime(df1['Date'], format = \"%m/%d/%Y\" )\n",
    "df1.info()"
   ]
  },
  {
   "cell_type": "code",
   "execution_count": 18,
   "id": "8515a123",
   "metadata": {},
   "outputs": [
    {
     "data": {
      "text/plain": [
       "<matplotlib.lines.Line2D at 0x1d03d8d3ac0>"
      ]
     },
     "execution_count": 18,
     "metadata": {},
     "output_type": "execute_result"
    },
    {
     "data": {
      "image/png": "[encoded data removed]",
      "text/plain": [
       "<Figure size 432x288 with 1 Axes>"
      ]
     },
     "metadata": {},
     "output_type": "display_data"
    }
   ],
   "source": [
    "df1.plot(x='Date', y='Close/Last')\n",
    "plt.axhline(close_mean, color='black')\n",
    "plt.axhline(sigma1, color='black', linestyle='--')\n",
    "plt.axhline(sigma2, color='black', linestyle='--')"
   ]
  },
  {
   "cell_type": "code",
   "execution_count": null,
   "id": "c048823e",
   "metadata": {},
   "outputs": [],
   "source": []
  }
 ],
 "metadata": {
  "kernelspec": {
   "display_name": "Python 3 (ipykernel)",
   "language": "python",
   "name": "python3"
  },
  "language_info": {
   "codemirror_mode": {
    "name": "ipython",
    "version": 3
   },
   "file_extension": ".py",
   "mimetype": "text/x-python",
   "name": "python",
   "nbconvert_exporter": "python",
   "pygments_lexer": "ipython3",
   "version": "3.9.7"
  }
 },
 "nbformat": 4,
 "nbformat_minor": 5
}
